{
  "nbformat": 4,
  "nbformat_minor": 0,
  "metadata": {
    "colab": {
      "name": "DCho_PA2_SU21.ipynb",
      "provenance": [],
      "collapsed_sections": [],
      "toc_visible": true
    },
    "kernelspec": {
      "display_name": "Python 3",
      "language": "python",
      "name": "python3"
    },
    "language_info": {
      "codemirror_mode": {
        "name": "ipython",
        "version": 3
      },
      "file_extension": ".py",
      "mimetype": "text/x-python",
      "name": "python",
      "nbconvert_exporter": "python",
      "pygments_lexer": "ipython3",
      "version": "3.6.8"
    }
  },
  "cells": [
    {
      "cell_type": "markdown",
      "metadata": {
        "id": "GHCYPcuiBBN6"
      },
      "source": [
        "Dongjun Cho, Programming Assignment 2, Algorithms 605.621\n",
        "# Statement of Academic Integrity\n",
        "Place your statement of academic integrity here\n",
        "\n",
        "I, Dongjun Cho, attempted to answer each question honestly and to the best of my abilities. I cited any and all help that I received in completing this assignment. "
      ]
    },
    {
      "cell_type": "markdown",
      "metadata": {
        "id": "vFyNMDVgBBN5"
      },
      "source": [
        "# Instructions to Students\n",
        "This programming assignment is contained entirely in this IPython/Jupyter notebook. You are to read the problem from this notebook, and answer questions/make required modifications in this same notebook and submit it as a notebook.  Look for **BOLDFACE AND/OR ALL CAPS** for where to put your answers.  Do not delete the problem statements, text, etc, leave all that as-is (makes grading easier), unlike with the homeworks."
      ]
    },
    {
      "cell_type": "markdown",
      "metadata": {
        "id": "b8bMJ40LBBN6"
      },
      "source": [
        "# Overview\n",
        "\n",
        "[The Maryland Lighthouse Challenge](https://cheslights.org/maryland-lighthouse-challenge/) is a biennial event where people race around the state of Maryland attempting to visit all 10 historic lighthouses and one lightship spread out among the most beautiful parts of the state.  The goal is to be the first team to visit all of the lighthouses during the challenge weekend.  One of your [professors and his wife](https://www.facebook.com/cheslights/photos/a.2861267277221280/2995180270496646/?type=1&theater) have [competed very favorably](https://cheslights.org/1st-finishers-results-2019-md-lighthouse-challenge/) in these events ;-)  \n",
        "\n",
        "The lighthouse challenge can be modeled as an instance of the *traveling salesperson problem (TSP)* that recurs frequently in networking, semiconductor layouts,and efficient routing.  This two-part problem will have you explore different strategies for identifying the fastest *tour*&mdash;the path and starting point that leads contestants to visit all lighthouses finishing at the earliest possible time, with algorithms that run in a reasonable amount of wall-clock time.\n",
        "\n",
        "In part one, you'll implement a brute-force algorithm for *solving* TSP&mdash;in our case, the fastest tour covering all the lighthouses.  Then, you'll explore how much improvement in processing time you can achieve using an optimization technique called \"memoization\" to avoid duplicate work.  In later programming assignments, you will explore other optimization techniques to use on the TSP problem."
      ]
    },
    {
      "cell_type": "markdown",
      "metadata": {
        "id": "OBfR4rQXBBN8"
      },
      "source": [
        "# Lighthouse Challenge - Fastest Tour (100 pts total)\n",
        "The algorithm has separate points assessed within a homework assignment.\n"
      ]
    },
    {
      "cell_type": "markdown",
      "metadata": {
        "id": "-myv7kMxBBN8"
      },
      "source": [
        "## Assumptions\n",
        "There are some Lighthouse Challenge details and assumptions:\n",
        "1. The contest requires a visit of all lighthouses; the winner is the first team to visit all lights (the contestants do not need to return to the start point).\n",
        "1. Teams may start at any lighthouse, and finish at any other lighthouse.\n",
        "1. Travel time from A to B is the same as the time from B to A. \n"
      ]
    },
    {
      "cell_type": "markdown",
      "metadata": {
        "id": "2o2w-goMBBOB"
      },
      "source": [
        "## Implementation (50)\n",
        "Implement your algorithm in the Student Implementation block(s) and code to print your results. Your code must have a reasonable, consistent, style and commented documentation. It must have appropriate data structures and modularity.  Feel free to use all of the block, and to create additional notebook cells as necessary.  Just put all your code between the instructor data structures and instructor run blocks.  Be sure to preserve the instructor input block, and do not change names of any of the variables - they will be inputted fresh by the instructor when testing your code.  Output must be clear and nicely formatted.  \n",
        "\n",
        "Your code should have be robust and have some error checking - we won't deliberately test for unusual/nonsense conditions, but our tests will include different data than supplied here so you want to be prepared for a variety of (well-formed) input conditions.\n",
        "\n",
        "Important notes:\n",
        " * **You must implement your algorithm** that you submitted earlier, allowing for minor corrections.\n",
        " * **When submitting, take out any debug statements below,** left in for your convenience (and to validate the correctness of this assignment notebook).  During development, you may find it useful to add your own debug statements.\n",
        " * **Your notebook must take less than 5 minutes to run** on Colaboratory.  If it takes significantly longer, there might be a bug.\n",
        "\n",
        "Print the best tour and time, using the TRAVEL_TIME and L provided in the instructor input block, so that the correctness of your implementation can be validated."
      ]
    },
    {
      "cell_type": "code",
      "metadata": {
        "id": "aGJrx1jzBBOC"
      },
      "source": [
        "############################################################################\n",
        "# INSTRUCTOR DATA STRUCTURES AND INITIAL TEST DATA\n",
        "# DO NOT CHANGE THE NAMES OR SIGNATURES OF THESE STRUCTURES OR FUNCTIONS.\n",
        "############################################################################\n",
        "TRAVEL_TIME = {\n",
        "    ('Lightship Chesapeake', 'Concord Point'): 0.8,\n",
        "    ('Lightship Chesapeake', 'Point Lookout'): 2.3,\n",
        "    ('Lightship Chesapeake', 'Sandy Point'): 0.7166666666666667,\n",
        "    ('Lightship Chesapeake', 'Drum Point'): 1.62,\n",
        "    ('Concord Point', 'Point Lookout'): 3.1166666666666667,\n",
        "    ('Concord Point', 'Sandy Point'): 1.45,\n",
        "    ('Concord Point', 'Drum Point'): 2.23,\n",
        "    ('Point Lookout', 'Sandy Point'): 2.1166666666666667,\n",
        "    ('Point Lookout', 'Drum Point'): 0.7666666666666667,\n",
        "    ('Sandy Point', 'Drum Point'): 1.4333333333333333\n",
        "}\n",
        "\n",
        "# Helper Functions\n",
        "def list_minus(L, x):\n",
        "    \"\"\"Returns a list of L that does not have x in it.\"\"\"\n",
        "    return list(set(L)-set([x,]))\n",
        "\n",
        "def fix_lookup(TRAVEL_TIME):\n",
        "  \"\"\"\n",
        "  Returns a TRAVEL_TIME indexed by both (a,b) and (b,a).  If your algorithm\n",
        "  wants TRAVEL_TIME[('foo', 'bar')], and TRAVEL_TIME has an index only for\n",
        "  [('bar', 'foo)], it will throw an exception.  This method fixes that by \n",
        "  duplicating keys and reversing their order.  (There are Pythonic ways \n",
        "  of doing this, such as frozensets, but that gets syntactically ugly.)\n",
        "\n",
        "  Use:\n",
        "    TRAVEL_TIME = fix_lookup(TRAVEL_TIME)\n",
        "  \"\"\"\n",
        "  TTA = {(k[1],k[0]):TRAVEL_TIME[k] for k in TRAVEL_TIME.keys()} # reverse/dup \n",
        "  TRAVEL_TIME.update(TTA)\n",
        "  return TRAVEL_TIME\n",
        "\n",
        "# Global Variables\n",
        "TRAVEL_TIME = fix_lookup(TRAVEL_TIME)\n",
        "LIGHTS = list(set([item for k in TRAVEL_TIME.keys() for item in k]))"
      ],
      "execution_count": 1,
      "outputs": []
    },
    {
      "cell_type": "code",
      "metadata": {
        "id": "cf644uiLBBOD"
      },
      "source": [
        "# Utility functions that you can use if you wish\n",
        "\n",
        "def random_lighthouses(n):\n",
        "    \"\"\"\n",
        "    Generates a random subset of n lighthouses.  Returns a dictionary of \n",
        "    travel times, and new list of names, for the subset.\n",
        "\n",
        "    Use:\n",
        "      myTravelTime, myLights = random_lighthouses(3)\n",
        "    \"\"\"\n",
        "    global TRAVEL_TIME, LIGHTS\n",
        "\n",
        "    if n>len(LIGHTS):\n",
        "        raise Exception(\"Exceeded max number of lights\")\n",
        "\n",
        "    # select subset of lights\n",
        "    from random import sample\n",
        "    subLights = sample(LIGHTS, n)\n",
        "\n",
        "    # create and return a proper dictionary (w/(a,b) (b,a) lookups)\n",
        "    newTT = {(i,j):TRAVEL_TIME[(i,j)] for i in subLights for j in list_minus(subLights, i)}\n",
        "    return fix_lookup(newTT), list(set([item for k in newTT.keys() for item in k]))\n"
      ],
      "execution_count": 2,
      "outputs": []
    },
    {
      "cell_type": "code",
      "metadata": {
        "id": "7654rXwzBBOF",
        "colab": {
          "base_uri": "https://localhost:8080/"
        },
        "outputId": "fbcac7a6-1f08-40f8-9fc2-f1a669687022"
      },
      "source": [
        "############################################################################\n",
        "# STUDENT IMPLEMENTATION BLOCK\n",
        "############################################################################\n",
        "\n",
        "# For this assignment, I tried to count the executions steps for three algorithms. \n",
        "# So, I named counting function calls differently. \n",
        "#    count_bf: Recursive Brute-force algorithm\n",
        "#    count_nn: Nearest Neigbhor algorithm\n",
        "#    count_mf: Multi-fragment Heuristic algorithm\n",
        "\n",
        "from math import inf\n",
        "\n",
        "# global variables\n",
        "indent=\"\"   # for debug statements\n",
        "#For count for recursive brute force algorithm \n",
        "count_bf=0     # for counting function calls\n",
        "\n",
        "## Recursive Function\n",
        "def fastest_tour(start_light, L):\n",
        "    global indent, count_bf\n",
        "    # Accepts start_point (starting lighthouse name), list L (all lighthouses less start_point)\n",
        "    # Returns best_tour (sequential list of lighthouses) and best_time (float value of best time in hours)\n",
        "    # You must keep the signatures the same (accepts start_light, L and returns best_tour, best_time;\n",
        "    #     start_light is a string, best_tour and L are lists of strings, and best_time is a float)\n",
        "    # You must provide a recursive algorithm and must evaluate every possible route\n",
        "    # Otherwise, you are free to change anything in here-- change variables, use a different structure,\n",
        "    #     switch to object-oriented coding, etc.\n",
        "    # Be sure that your pseudocode matches your actual code!\n",
        "\n",
        "    \"\"\"I will add reasonable comments here, and always be sure to check for errors.\"\"\"\n",
        "    \"\"\"I will not change the function signature or its return parameters.\"\"\"\n",
        "    \"\"\"If I have any questions, I'll ask my instructor or come to office hours.\"\"\"\n",
        "\n",
        "    count_bf = count_bf + 1 # count the number of calls\n",
        "    \n",
        "    #print(indent, f\"fastest_tour({start_light}, {L})\") # DEBUGGING - DELETE ME\n",
        "    best_tour = []  # used to store the running best overall tour that starts at start_light\n",
        "    best_time = inf # used to store the time for the best_tour sequence\n",
        "\n",
        "    # TERMINATION CASE\n",
        "    #    1. If the number of cities for the lighthouse is less than 2, it terminates the recursive function. \n",
        "    #    2. It returns the tour and tour time of the lighthouse.\n",
        "    if len(L)<2:\n",
        "        return [start_light, L[0]], TRAVEL_TIME[(start_light,L[0])]\n",
        "    \n",
        "    # RECURSIVE CASE (\"else\" is implied because we returned if terminating)\n",
        "    #    1. It iterates through every possible city in the lighthouse.\n",
        "    #    2. It computes the tour time between start points to the next points.\n",
        "    #    3. It compares current tour time and best time to shortest/optimal tour time and tour.\n",
        "    #    4. It returns the best tour time and best tour from start points.\n",
        "    for next_light in L: \n",
        "            indent += \"  \"\n",
        "            L_minus = list_minus(L, next_light)\n",
        "            tour, time = fastest_tour(next_light, L_minus) \n",
        "            time += TRAVEL_TIME[(start_light,next_light)] \n",
        "            indent = indent[:-2]\n",
        "            if time < best_time: \n",
        "                best_time = time\n",
        "                best_tour = tour\n",
        "    best_tour =[start_light] + best_tour\n",
        "    #print(indent, f\"return {[start_light]} + {best_tour}\")  # DEBUGGING - DELETE ME\n",
        "    return best_tour, best_time  \n",
        "    \"\"\"The input for the function, return value for the base case, and return value for\"\"\"\n",
        "    \"\"\"the recursive case must match exactly.\"\"\"\n",
        "\n",
        "\n",
        "## Kickoff Function, and Output\n",
        "#print(LIGHTS)\n",
        "start_light = LIGHTS[0] # NOTE! Replace this as necessary\n",
        "L_minus = list_minus(LIGHTS, start_light)\n",
        "best_tour, best_time = fastest_tour(start_light, L_minus)\n",
        "\n",
        "print(\"The best tour is: \", ', '.join(best_tour))\n",
        "print(\"The best time is: \", best_time)\n",
        "print(\"The call counts are: \", count_bf)\n",
        "# create an array for plotting below, add \"count\" to it, reset it for the next run\n",
        "# run repeated trials over N, resetting counts each time, appending to mycounts"
      ],
      "execution_count": 3,
      "outputs": [
        {
          "output_type": "stream",
          "text": [
            "The best tour is:  Concord Point, Lightship Chesapeake, Sandy Point, Drum Point, Point Lookout\n",
            "The best time is:  3.716666666666667\n",
            "The call counts are:  41\n"
          ],
          "name": "stdout"
        }
      ]
    },
    {
      "cell_type": "markdown",
      "metadata": {
        "id": "ttFpBOT2BBOJ"
      },
      "source": [
        "## Test and Evaluation (40)\n",
        "To estimate the computational complexity of your algorithm, you will need to run it against a number of different scenarios and capture a measure of the work done for each run.  Using the provided utility function, generate random sets of 3-10 lighthouses and then run your algorithm on them.  Gather the execution steps that your algorithm expends on them and then plot the results.  Finally, provide an analysis of your algorithm's running time and performance.  \n"
      ]
    },
    {
      "cell_type": "code",
      "metadata": {
        "id": "tQ6TUpH66yH4"
      },
      "source": [
        "#For Random Lighthouse function \n",
        "#Test 3\n",
        "TRAVEL_TIME = { \n",
        "      ('F', 'E') : 7.453320453415392 ,\n",
        "      ('F', 'D') : 6.170569410345761 ,\n",
        "      ('F', 'I') : 10.448429302986911 ,\n",
        "      ('F', 'G') : 6.187750187309644 ,\n",
        "      ('F', 'C') : 12.090422838563583 ,\n",
        "      ('F', 'H') : 11.539119418380032 ,\n",
        "      ('F', 'A') : 13.23865323724485 ,\n",
        "      ('F', 'J') : 14.209616157057711 ,\n",
        "      ('F', 'B') : 12.029520235766265 ,\n",
        "      ('E', 'D') : 4.594971038617467 ,\n",
        "      ('E', 'I') : 9.488857351897519 ,\n",
        "      ('E', 'G') : 4.661282508675182 ,\n",
        "      ('E', 'C') : 10.705763401441896 ,\n",
        "      ('E', 'H') : 10.12354365573923 ,\n",
        "      ('E', 'A') : 12.05863087182219 ,\n",
        "      ('E', 'J') : 12.857918364285274 ,\n",
        "      ('E', 'B') : 10.915808926216425 ,\n",
        "      ('D', 'I') : 8.773798408565863 ,\n",
        "      ('D', 'G') : 3.549820998388679 ,\n",
        "      ('D', 'C') : 9.084763991756446 ,\n",
        "      ('D', 'H') : 8.47244200438249 ,\n",
        "      ('D', 'A') : 10.768085646027655 ,\n",
        "      ('D', 'J') : 11.205467989446557 ,\n",
        "      ('D', 'B') : 9.811703475051996 ,\n",
        "      ('I', 'G') : 4.856711290250502 ,\n",
        "      ('I', 'C') : 10.303247633652786 ,\n",
        "      ('I', 'H') : 9.72873923304563 ,\n",
        "      ('I', 'A') : 11.752971702744057 ,\n",
        "      ('I', 'J') : 12.386140947772116 ,\n",
        "      ('I', 'B') : 10.715926552978804 ,\n",
        "      ('G', 'C') : 8.939922836985131 ,\n",
        "      ('G', 'H') : 8.325372714362043 ,\n",
        "      ('G', 'A') : 10.658709470483634 ,\n",
        "      ('G', 'J') : 11.05300320168352 ,\n",
        "      ('G', 'B') : 9.726036954632448 ,\n",
        "      ('C', 'H') : 14.85107596522508 ,\n",
        "      ('C', 'A') : 16.127909792272288 ,\n",
        "      ('C', 'J') : 17.54748278310382 ,\n",
        "      ('C', 'B') : 14.699070399680458 ,\n",
        "      ('H', 'A') : 15.723529687188293 ,\n",
        "      ('H', 'J') : 17.10791004081554 ,\n",
        "      ('H', 'B') : 14.306778662449995 ,\n",
        "      ('A', 'J') : 16.949188359233272 ,\n",
        "      ('A', 'B') : 14.239542023142393 ,\n",
        "      ('J', 'B') : 16.6207970728817 ,\n",
        "}"
      ],
      "execution_count": 4,
      "outputs": []
    },
    {
      "cell_type": "code",
      "metadata": {
        "id": "2nczwEIQBBOJ",
        "colab": {
          "base_uri": "https://localhost:8080/"
        },
        "outputId": "97c8a55b-19fc-4614-b58e-a3b2df220dcb"
      },
      "source": [
        "# MY CODE BLOCK TO EXPERIMENT WITH 3-10 LIGHTHOUSES AND GATHER EXECUTION STEPS\n",
        "#   It uses the given random_lighthouse function to generate 3-10 lighthouses. \n",
        "#   To generate 3-10 random lighthouses, I used Test3 data. \n",
        "#   In the random_lighthouse function, it returns both tour time and tour. \n",
        "#   It extracts the tour data from the random_lighthouse function. \n",
        "#   Since the fasterst_tour function is called in the top, It subtracts the previous function count to gather execution steps.  \n",
        "#   It gathers the execution steps for random 3-10 lighthouse, and it stores them in execution_steps_bf for plotting graph. \n",
        "\n",
        "execution_steps_bf=[]\n",
        "steps_bf =[]\n",
        "for i in range(3,11):\n",
        "    TRAVEL_TIME = fix_lookup(TRAVEL_TIME)\n",
        "    LIGHTS = list(set([item  for  k  in  TRAVEL_TIME.keys()  for  item  in  k])) \n",
        "    LIGHTS = random_lighthouses(i)[1]\n",
        "    start_light = LIGHTS[0] \n",
        "    L_minus = list_minus(LIGHTS, start_light)\n",
        "    best_tour, best_time = fastest_tour(start_light, L_minus)\n",
        "    execution_steps_bf.append(count_bf - 41)\n",
        "    steps_bf.append(i)\n",
        "print(execution_steps_bf)\n",
        "print(steps_bf)"
      ],
      "execution_count": 5,
      "outputs": [
        {
          "output_type": "stream",
          "text": [
            "[3, 13, 54, 260, 1497, 10157, 79438, 702968]\n",
            "[3, 4, 5, 6, 7, 8, 9, 10]\n"
          ],
          "name": "stdout"
        }
      ]
    },
    {
      "cell_type": "markdown",
      "metadata": {
        "id": "j_JqMMC2BBOK"
      },
      "source": [
        "### Plot\n",
        "Plot the execution steps below."
      ]
    },
    {
      "cell_type": "code",
      "metadata": {
        "id": "LIb5iG6EBBOK",
        "colab": {
          "base_uri": "https://localhost:8080/",
          "height": 374
        },
        "outputId": "d7390b12-777e-429f-f378-83b568e60f7b"
      },
      "source": [
        "# Code adapted from Sahil Sharma, used with permission, from Spring, 2021\n",
        "\n",
        "from math import pow\n",
        "from math import log2\n",
        "from math import factorial\n",
        "\n",
        "# Let myruncounts[i] be count of calls for POINT array of size i\n",
        "myruncounts = [0.8*x**1.9 for x in range(100)] # your data here\n",
        "\n",
        "# benchmark data set generation\n",
        "yTestVals1 = [0,] # linear for O(n)\n",
        "yTestVals2 = [0,] # quadratic for O(n^2)\n",
        "yTestVals3 = [0,] # n*log(n) for O(nlog(n))\n",
        "yTestVals4 = [0,] # 5*n*log(n) for O(nlog(n))\n",
        "\n",
        "# generate bench mark data for O(n), O(n^2), O(nlog(n)), O(10*nlog(n)), and O(n!)\n",
        "for i in range(1, len(myruncounts)):\n",
        "    yTestVals1.append(i)\n",
        "    yTestVals2.append(pow(i, 2))\n",
        "    yTestVals3.append(i*log2(i))\n",
        "    yTestVals4.append(5*i*log2(i))\n",
        "\n",
        "# %matplotlib inline\n",
        "import matplotlib.pyplot as plt\n",
        "\n",
        "# Simple vs. Improved execution steps\n",
        "plt.rcParams['figure.figsize'] = [10,5]\n",
        "fig, (ax1) = plt.subplots(1, 1)\n",
        "fig.suptitle('Call Count Analysis', size=\"xx-large\")\n",
        "\n",
        "# plotting nearest neighbor execution steps\n",
        "ax1.set_title('Time complexity', size=\"x-large\")\n",
        "ax1.plot(range(len(myruncounts)), myruncounts, \"rx-\", markersize=10, linewidth=4, label=\"Calls to Dist\")\n",
        "ax1.plot(range(len(myruncounts)), yTestVals1, \"m^-\", markersize=0, linewidth=1, label=\"benchmark O(n)\")\n",
        "ax1.plot(range(len(myruncounts)), yTestVals3, \"g^-\", markersize=0, linewidth=1, label=\"benchmark O(nlog(n))\")\n",
        "ax1.plot(range(len(myruncounts)), yTestVals4, \"y^-\", markersize=0, linewidth=1, label=\"benchmark O(5*nlog(n))\")\n",
        "ax1.plot(range(len(myruncounts)), yTestVals2, \"b^-\", markersize=0, linewidth=1, label=\"benchmark O(n^2)\")\n",
        "ax1.grid(b=True, which='major', axis='both')\n",
        "## X label for this graph is Complexity respect to input size in other words, Runtime. \n",
        "## Y label for this graph is input size. \n",
        "ax1.set(xlabel = 'Size of the input', ylabel = 'Complexity (Execution Time/Steps)')\n",
        "ax1.legend(loc=(0.05,0.65), scatterpoints=1)\n",
        "ax1.tick_params(axis=\"both\", which=\"major\", labelsize=14)"
      ],
      "execution_count": 6,
      "outputs": [
        {
          "output_type": "display_data",
          "data": {
            "image/png": "[encoded data removed]",
            "text/plain": [
              "<Figure size 720x360 with 1 Axes>"
            ]
          },
          "metadata": {
            "tags": [],
            "needs_background": "light"
          }
        }
      ]
    },
    {
      "cell_type": "markdown",
      "metadata": {
        "id": "yX0E_tyYBBOL"
      },
      "source": [
        "### Analysis and Running Time\n",
        "**HERE IS MY EXPLANATION OF WHAT IS HAPPENING ABOVE.  WHAT IS THE THEORETICAL RUNNING TIME OF THE ALGORITHM? MY RUNNING TIME IS $O(n), \\Theta(n)$, or  $\\Omega(n)$, AND BRIEFLY WHY...**\n",
        "\n",
        "**Here is what the plot shows.** Remember, plots (and your writeup) must tell a (short) story."
      ]
    },
    {
      "cell_type": "code",
      "metadata": {
        "colab": {
          "base_uri": "https://localhost:8080/",
          "height": 302
        },
        "id": "4XHEmsjW6yH9",
        "outputId": "aea7496a-fd3d-4db4-bf91-4c461275d7f4"
      },
      "source": [
        "#Input size 10\n",
        "new_myruncounts_1 = [0.8*x**1.9 for x in range(11)] \n",
        "\n",
        "TestVal1_1 = [0,] # quadratic for O(2^n*n^2)\n",
        "TestVal1_2 = [0,] # quadratic for O(n^2)\n",
        "TestVal1_3 = [0,] # quadratic for O(n!)\n",
        "\n",
        "for i in range(1, len(new_myruncounts_1)):\n",
        "    TestVal1_1.append(pow(i, 2)*pow(2, i))\n",
        "    TestVal1_2.append(pow(2, i))\n",
        "    TestVal1_3.append(factorial(i))\n",
        "\n",
        "#Input size 12\n",
        "new_myruncounts_2 = [0.8*x**1.9 for x in range(13)] \n",
        "\n",
        "TestVal2_1 = [0,] # quadratic for O(2^n*n^2)\n",
        "TestVal2_2 = [0,] # quadratic for O(n^2)\n",
        "TestVal2_3 = [0,] # quadratic for O(n!)\n",
        "\n",
        "for i in range(1, len(new_myruncounts_2)):\n",
        "    TestVal2_1.append(pow(i, 2)*pow(2, i))\n",
        "    TestVal2_2.append(pow(2, i))\n",
        "\n",
        "plt.rcParams['figure.figsize'] = [10,5]\n",
        "# fig, (ax1) = plt.subplots(1, 1)\n",
        "fig, (ax1,ax2) = plt.subplots(1,2, figsize=(15,4))\n",
        "fig.suptitle('Execution Steps Analysis', size=\"xx-large\")\n",
        "\n",
        "ax1.plot(steps_bf, execution_steps_bf, \"rx-\", markersize=0, linewidth=3, label=\"Brute-Force\")\n",
        "ax1.plot(range(len(new_myruncounts_1)), TestVal1_1, \"b^-\", markersize=0, linewidth=1, label=\"benchmark O(n^2*2^n)\")\n",
        "ax1.plot(range(len(new_myruncounts_1)), TestVal1_2, \"g^-\", markersize=0, linewidth=1, label=\"benchmark O(2^n)\")\n",
        "ax1.plot(range(len(new_myruncounts_1)), TestVal1_3, \"m^-\", markersize=0, linewidth=1, label=\"benchmark O(n!)\")\n",
        "ax1.grid(b=True, which='major', axis='both')\n",
        "ax1.legend(loc=(0.05,0.85), scatterpoints=1)\n",
        "\n",
        "ax2.plot(steps_bf, execution_steps_bf, \"rx-\", markersize=0, linewidth=3, label=\"Brute-Force\")\n",
        "ax2.plot(range(len(new_myruncounts_2)), TestVal2_1, \"b^-\", markersize=0, linewidth=1, label=\"benchmark O(n^2*2^n)\")\n",
        "ax2.plot(range(len(new_myruncounts_2)), TestVal2_2, \"g^-\", markersize=0, linewidth=1, label=\"benchmark O(2^n)\")\n",
        "ax2.grid(b=True, which='major', axis='both')\n",
        "ax2.legend(loc=(0.05,0.85), scatterpoints=1)\n",
        "\n",
        "ax1.set_title('Brute-Force with Input Size 10', size=\"x-large\")\n",
        "ax2.set_title('Brute-Force with Input Size 12', size=\"x-large\")\n",
        "\n",
        "ax1.set(xlabel = 'Input Size', ylabel = 'Execution Steps')\n",
        "ax1.legend(loc=(0.05,0.65), scatterpoints=1)\n",
        "ax1.tick_params(axis=\"both\", which=\"major\", labelsize=14)\n",
        "\n",
        "ax2.set(xlabel = 'Input Size', ylabel = 'Execution Steps')\n",
        "ax2.legend(loc=(0.05,0.65), scatterpoints=1)\n",
        "ax2.tick_params(axis=\"both\", which=\"major\", labelsize=14)"
      ],
      "execution_count": 7,
      "outputs": [
        {
          "output_type": "display_data",
          "data": {
            "image/png": "[encoded data removed]",
            "text/plain": [
              "<Figure size 1080x288 with 2 Axes>"
            ]
          },
          "metadata": {
            "tags": [],
            "needs_background": "light"
          }
        }
      ]
    },
    {
      "cell_type": "markdown",
      "metadata": {
        "id": "oyLCigsJ6yH-"
      },
      "source": [
        "To estimate the computational complexity of my brute-force algorithm, I tried to run this algorithm using random scenarios. To generate the random scenarios, I used the given random lighthouse function. Since the TRAVEL_TIME in the top contains 5 cities, I couldn't generate 10 random cities using TRAVEL_TIME in the top. Since test3 TRAVEL_TIME contains 10 cities, I used the test3 data to generate up to 10 lighthouses. Using the given random_lighthouse function and test3 data, I was able to generate a random set of 3-10 lighthouses. I measured the execution steps from 3 to 10 lighthouses and analyzed the execution steps. Theoretically, the computational complexity of the recursive brute-force algorithm should be O($n^2$$2^n$) because there are n possible start vertices and $2^n$ vertices. Since the execution steps of brute-force are huge, I tried to compare brute-force, O($n^2$$2^n$), O($2^n$), and O(n!). \n",
        "\n",
        "After analyzing the execution steps of the recursive brute-force algorithm execution steps, I realized that the execution steps for brute-force are huge that don't fit into the Call Count Analysis Graph. Since the O($n!$) is the largest time complexity we can measure, I tried to compare execution steps of brute-force and O($n!$) with an input size of 10. So, I tried to graph with O($n!$), O($n^2$$2^n$), and O($2^n$). When we compare with O($n!$), it is very hard to see other time complexity such as O($n^2$$2^n$) and O($2^n$). So, I tried to plot another graph without O($n!$). Since the other graph doesn't really show other time complexity other than execution steps of brute-force, I tried to increase the size of the input. After increasing the input size to 12, I realized that the O($n^2$$2^n$) becomes close to brute-force. \n",
        "\n",
        "By analyzing the execution steps of my brute-force algorithm, I realized that the time complexity shows between O($n^2$$2^n$) and O(n!). So, I realized that the computational complexity of my brute-force algorithm $\\Theta$($n^2$$2^n$)."
      ]
    },
    {
      "cell_type": "code",
      "metadata": {
        "id": "NWGVJQh46yH_"
      },
      "source": [
        "# Since we called Test3 lighthouse data, the TRAVEL_TIME is test3 data. \n",
        "# To analyze the algorithm with simple data with 5 cities, I copied first TRAVEL_TIME from the top. \n",
        "\n",
        "#For Normal lighthouse runs\n",
        "TRAVEL_TIME = {\n",
        "    ('Lightship Chesapeake', 'Concord Point'): 0.8,\n",
        "    ('Lightship Chesapeake', 'Point Lookout'): 2.3,\n",
        "    ('Lightship Chesapeake', 'Sandy Point'): 0.7166666666666667,\n",
        "    ('Lightship Chesapeake', 'Drum Point'): 1.62,\n",
        "    ('Concord Point', 'Point Lookout'): 3.1166666666666667,\n",
        "    ('Concord Point', 'Sandy Point'): 1.45,\n",
        "    ('Concord Point', 'Drum Point'): 2.23,\n",
        "    ('Point Lookout', 'Sandy Point'): 2.1166666666666667,\n",
        "    ('Point Lookout', 'Drum Point'): 0.7666666666666667,\n",
        "    ('Sandy Point', 'Drum Point'): 1.4333333333333333\n",
        "}\n",
        "TRAVEL_TIME = fix_lookup(TRAVEL_TIME)\n",
        "LIGHTS = list(set([item for k in TRAVEL_TIME.keys() for item in k]))"
      ],
      "execution_count": 8,
      "outputs": []
    },
    {
      "cell_type": "markdown",
      "metadata": {
        "id": "n2xarWwg6yH_"
      },
      "source": [
        "## Nearest Neighbor (improved algorithm)\n",
        "\n",
        "After finishing implementing the recursive brute-force algorithm, I tried to write an improved algorithm. I tried to implement other improved algorithms because I wasn't sure how to design/implement the Multi-Fragment Heuristic algorithm at first. For the improved algorithm, I choose the nearest neighbor algorithm that is shown in the pdf that Professor provided."
      ]
    },
    {
      "cell_type": "code",
      "metadata": {
        "id": "h9cC4WNN6yIA"
      },
      "source": [
        "# Nearest Neighbor is the algorithm that chooses the closest cities from the start cities. \n",
        "# Nearest Neighbor (fastest_tour_NN)\n",
        "#    1. At first, it stores the start light(city) in the visited array\n",
        "#    2. It keeps iterates until the length of the lighthouse is 0.\n",
        "#    3. It iterates every lighthouse and it uses the same methods just like the recursive brute-force algorithm. \n",
        "#    4. It computes the tour time between the start points and the next points.\n",
        "#    5. It compares the current tour time and the best time to find the nearest points from the start point.\n",
        "#    6. After it finds the nearest points from start points, it stores the nearest points in the visited and removes them from the lighthouse. \n",
        "#    7. It moves to the next edges to find the next nearest points. \n",
        "#    8. It returns the best tour and best tour time. \n",
        "\n",
        "count_nn=0\n",
        "def fastest_tour_NN(start_light, L):\n",
        "    global count_nn\n",
        "    visited = []\n",
        "    visited.append(start_light)\n",
        "    while len(L) >0: \n",
        "        count_nn = count_nn + 1 # count the number of calls\n",
        "        best_time = inf\n",
        "        next_city= start_light\n",
        "        for next_light in L: \n",
        "            distance = TRAVEL_TIME[(start_light, next_light)] \n",
        "            if distance < best_time:\n",
        "                best_time = distance\n",
        "                next_city = next_light\n",
        "        start_light = next_city \n",
        "        visited.append(start_light)\n",
        "        L.remove(start_light) \n",
        "    new_dist = TotalTourTime(visited) \n",
        "    return visited, new_dist\n",
        "\n",
        "# Compute the total tour time (TotalTourTime)\n",
        "#    1. It iterates the best tour.\n",
        "#    2. It computes the distance between edges and the next edges.\n",
        "#    3. It returns computed tour time. \n",
        "\n",
        "def TotalTourTime(L):\n",
        "    totalDistance = 0\n",
        "    for i in range(0, len(L) - 1): \n",
        "        totalDistance += TRAVEL_TIME[(L[i], L[i+1])]\n",
        "    return totalDistance"
      ],
      "execution_count": 9,
      "outputs": []
    },
    {
      "cell_type": "code",
      "metadata": {
        "colab": {
          "base_uri": "https://localhost:8080/"
        },
        "id": "xWTXIf436yIA",
        "outputId": "95d954d4-a7ad-467c-9e90-e6fc8d60c58e"
      },
      "source": [
        "#print(LIGHTS)\n",
        "start_light = LIGHTS[0] # NOTE! Replace this as necessary\n",
        "L_minus = list_minus(LIGHTS, start_light)\n",
        "best_tour, best_time = fastest_tour_NN(start_light, L_minus)\n",
        "\n",
        "print(\"The best tour is: \", ', '.join(best_tour))\n",
        "print(\"The best time is: \", best_time)\n",
        "print(\"The call counts are: \", count_nn)"
      ],
      "execution_count": 10,
      "outputs": [
        {
          "output_type": "stream",
          "text": [
            "The best tour is:  Concord Point, Lightship Chesapeake, Sandy Point, Drum Point, Point Lookout\n",
            "The best time is:  3.716666666666667\n",
            "The call counts are:  4\n"
          ],
          "name": "stdout"
        }
      ]
    },
    {
      "cell_type": "markdown",
      "metadata": {
        "id": "h-soB-q8sy9Z"
      },
      "source": [
        "## Multi-Factor (bonus 10 points)\n",
        "The Traveling Salesperson Problem is in the family of NP Complete problems.  As such, there is no known polynomial time solution to it.  However, people over the years have come up with approximations that run in polynomial time, and some run fairly efficiently. \n",
        "\n",
        "The paper, [An Empirical Study of the Multi-Fragment Tour Construction Algorithm for the Traveling Salesman Problem](https://scholar.google.com/scholar?q=An+Empirical+Study+of+the+Multi-Fragment+Tour) by Krari *et al*, describes an interesting greedy algorithm that works by adding edges of increasing length to fill out the tour.\n",
        "\n",
        "For this part:\n",
        " * implement the Multi-Fragment approximation method in Python, adapted to the Lighthouse challenge\n",
        " * compare accuracy vs. the brute-force algorithm\n",
        " * compare the execution steps vs. the brute-force algorithm \n",
        "\n",
        "(By \"adapted to the Lighthouse challenge,\" our tours are not a cycle$-$they do not return to the starting point.)\n",
        " \n",
        "For the accuracy tests, give an average percent difference of total tour times of Multi-Fragment vs. brute-force across a varied set of points.  Create a set of N nodes, and create edges with random travel times.   Run several trials per each of N varying between 4 and 10 inclusive.\n",
        "\n",
        "For instance, for 5 points, create 5! edges with random weights, run brute force vs. Multi-Factor, obtain the total tour time for $T_{bf}$ and $T_{mf}$, then report the difference as $(T_{mf}-T_{bf})/T_{bf}$ in terms of percent.  Repeat the 5 points trial for a *decent* number of times - 10 runs is probably enough.  Average percents over all trials, over all tested number of points.  Try for 4 points, 5 points, ... to 10 points.\n",
        "\n",
        "Count execution steps when performing the accuracy steps.  Plot steps of brute force, steps of multi-fragment, vs. number of points N (between 4 and 10 as above).  There should be no need to average, the algorithms should take the same number of steps for a given set of N. \n",
        "\n",
        "Copy/paste plot and/or brute-force code from above.  You may reuse from within your own notebook.\n",
        "\n",
        "Complete a small writeup in the analysis section."
      ]
    },
    {
      "cell_type": "code",
      "metadata": {
        "id": "TpoLm13XHK3H"
      },
      "source": [
        "# My Multi-Fragment Tour Code\n",
        "#    1. It first sorts the TRAVEL TIME\n",
        "#    2. From start cities, it iterates over shortest edges\n",
        "#    3. If the edges create the cycles, it moves to next shortest edges\n",
        "#    4. If the number of complete edges are equal to the number of edges, it completes the algorithm\n",
        "\n",
        "# Sort the TRAVEL_TIME (sorted_TRAVEL_TIME)\n",
        "#    1. From the TRAVEL_TIME, it sortes the TRAVEL_TIME by the tour time for each city.\n",
        "#    2. From the sorted travel time, it stores from vertex and to vertex in the edges list. \n",
        "#    3. It returns the edges lists that contain sorted TRAVEL_TIME. \n",
        "\n",
        "def sorted_TRAVEL_TIME(TRAVEL_TIME):\n",
        "    edges_list=[]\n",
        "    sorted_edges = sorted([(adj, v1) for v1, adj in TRAVEL_TIME.items()]) \n",
        "    for i in sorted_edges: \n",
        "        from_vertex = i[1][0] \n",
        "        to_vertex = i[1][1] \n",
        "        edges_list.append((from_vertex,to_vertex)) \n",
        "    return edges_list\n",
        "\n",
        "# Detect cycle(detectcycle)\n",
        "#    1. It iterates through the graph.\n",
        "#    2. If the current edges aren't in the graph, it is not a cycle. \n",
        "#    3. If the current edges are in the graph, it is the cycle\n",
        "#    4. It returns the result list that contains the boolean value. \n",
        "\n",
        "def detectcycle(graph):\n",
        "    graph_cycle = set()\n",
        "    result =[]\n",
        "    for edges in graph: #Iterate over the graph\n",
        "        if edges[1] not in graph_cycle: #If the certain edges in graph, not cycle\n",
        "            #print(\"not cycle\")\n",
        "            result.append(False)\n",
        "        else: #If the certain edges not in graph, it is cycle\n",
        "            #print(\"cycle\")\n",
        "            result.append(True)\n",
        "        graph_cycle.add(edges[0])\n",
        "    return result\n",
        "\n",
        "\n",
        "# This function is to return boolean for the detectcycle function. \n",
        "# If the graph creates a cycle, it returns True.\n",
        "# If the graph doesn't create a cycle, it returns False.\n",
        "def iscyclic(graph):\n",
        "    if True in detectcycle(graph):\n",
        "        return True\n",
        "\n",
        "# Multi-Fragment Heuristic Algorithm (MF)\n",
        "#    1. It iterates over the edges until the number of visited edges becomes the number of edges.\n",
        "#    2. It loops through all edges and finds the edges that have start points. \n",
        "#    3. If it finds the edges that have start points, it stores them in the visited\n",
        "#    4. It checks the visited list and removes current edges if it creates the cycles using iscyclic function.\n",
        "#    5. It clears the start cities list for the next edges and moves to the next edges. \n",
        "#    6. Since the visited is in tuple form ((a,b), (b,c)), It changes from a tuple to a list. \n",
        "#    7. It computes the tour time using the TotalTourTime function. \n",
        "#    8. It returns the best tour and best tour time. \n",
        "\n",
        "count_mf =0\n",
        "def MF(s,G):\n",
        "    global count_mf\n",
        "    visited=[]\n",
        "    start_cities =[]\n",
        "    best_tour = []\n",
        "    j=0\n",
        "    next_city = s\n",
        "    while len(visited) < len(LIGHTS)-1:\n",
        "        count_mf = count_mf + 1 \n",
        "        for i in G: \n",
        "            if i[0] == next_city: \n",
        "                start_cities.append(i)\n",
        "        visited.append(start_cities[0])\n",
        "        for i in start_cities:\n",
        "            if iscyclic(visited): \n",
        "                visited.pop() \n",
        "                visited.append(i)\n",
        "            else:\n",
        "                break\n",
        "        start_cities.clear()\n",
        "        next_city = visited[j][1] \n",
        "        j+=1\n",
        "    best_tour = []\n",
        "    for i in list(j for i in visited for j in i):\n",
        "        if i not in best_tour:\n",
        "            best_tour.append(i)\n",
        "    best_time = TotalTourTime(best_tour) #Compute the total tour time\n",
        "    return best_tour, best_time"
      ],
      "execution_count": 11,
      "outputs": []
    },
    {
      "cell_type": "code",
      "metadata": {
        "colab": {
          "base_uri": "https://localhost:8080/"
        },
        "id": "Oe7IfGmq6yIH",
        "outputId": "72b4119f-aaa4-46af-d8cd-d6e5c1179438"
      },
      "source": [
        "start_light = LIGHTS[0] \n",
        "best_tour_mf, best_time_mf =MF(start_light, sorted_TRAVEL_TIME(TRAVEL_TIME))\n",
        "print(\"The best tour is: \", ', '.join(best_tour_mf))\n",
        "print(\"The best time is: \", best_time_mf)\n",
        "print(\"Function calls \", count_mf)"
      ],
      "execution_count": 12,
      "outputs": [
        {
          "output_type": "stream",
          "text": [
            "The best tour is:  Concord Point, Lightship Chesapeake, Sandy Point, Drum Point, Point Lookout\n",
            "The best time is:  3.716666666666667\n",
            "Function calls  4\n"
          ],
          "name": "stdout"
        }
      ]
    },
    {
      "cell_type": "markdown",
      "metadata": {
        "id": "7cZS3Va06yIH"
      },
      "source": [
        "### For Random Lighthouse"
      ]
    },
    {
      "cell_type": "code",
      "metadata": {
        "id": "EYMN2Aqa6yII"
      },
      "source": [
        "#For Random Lighthouse function \n",
        "#Test 3\n",
        "TRAVEL_TIME = { \n",
        "      ('F', 'E') : 7.453320453415392 ,\n",
        "      ('F', 'D') : 6.170569410345761 ,\n",
        "      ('F', 'I') : 10.448429302986911 ,\n",
        "      ('F', 'G') : 6.187750187309644 ,\n",
        "      ('F', 'C') : 12.090422838563583 ,\n",
        "      ('F', 'H') : 11.539119418380032 ,\n",
        "      ('F', 'A') : 13.23865323724485 ,\n",
        "      ('F', 'J') : 14.209616157057711 ,\n",
        "      ('F', 'B') : 12.029520235766265 ,\n",
        "      ('E', 'D') : 4.594971038617467 ,\n",
        "      ('E', 'I') : 9.488857351897519 ,\n",
        "      ('E', 'G') : 4.661282508675182 ,\n",
        "      ('E', 'C') : 10.705763401441896 ,\n",
        "      ('E', 'H') : 10.12354365573923 ,\n",
        "      ('E', 'A') : 12.05863087182219 ,\n",
        "      ('E', 'J') : 12.857918364285274 ,\n",
        "      ('E', 'B') : 10.915808926216425 ,\n",
        "      ('D', 'I') : 8.773798408565863 ,\n",
        "      ('D', 'G') : 3.549820998388679 ,\n",
        "      ('D', 'C') : 9.084763991756446 ,\n",
        "      ('D', 'H') : 8.47244200438249 ,\n",
        "      ('D', 'A') : 10.768085646027655 ,\n",
        "      ('D', 'J') : 11.205467989446557 ,\n",
        "      ('D', 'B') : 9.811703475051996 ,\n",
        "      ('I', 'G') : 4.856711290250502 ,\n",
        "      ('I', 'C') : 10.303247633652786 ,\n",
        "      ('I', 'H') : 9.72873923304563 ,\n",
        "      ('I', 'A') : 11.752971702744057 ,\n",
        "      ('I', 'J') : 12.386140947772116 ,\n",
        "      ('I', 'B') : 10.715926552978804 ,\n",
        "      ('G', 'C') : 8.939922836985131 ,\n",
        "      ('G', 'H') : 8.325372714362043 ,\n",
        "      ('G', 'A') : 10.658709470483634 ,\n",
        "      ('G', 'J') : 11.05300320168352 ,\n",
        "      ('G', 'B') : 9.726036954632448 ,\n",
        "      ('C', 'H') : 14.85107596522508 ,\n",
        "      ('C', 'A') : 16.127909792272288 ,\n",
        "      ('C', 'J') : 17.54748278310382 ,\n",
        "      ('C', 'B') : 14.699070399680458 ,\n",
        "      ('H', 'A') : 15.723529687188293 ,\n",
        "      ('H', 'J') : 17.10791004081554 ,\n",
        "      ('H', 'B') : 14.306778662449995 ,\n",
        "      ('A', 'J') : 16.949188359233272 ,\n",
        "      ('A', 'B') : 14.239542023142393 ,\n",
        "      ('J', 'B') : 16.6207970728817\n",
        "}"
      ],
      "execution_count": 13,
      "outputs": []
    },
    {
      "cell_type": "code",
      "metadata": {
        "colab": {
          "base_uri": "https://localhost:8080/"
        },
        "id": "QQ_rOXKG6yII",
        "outputId": "ae4f3011-58e2-4523-d197-5b798f98def9"
      },
      "source": [
        "# Just like the recursive brute-force algorithm, I tried to gather execution steps. \n",
        "# It uses the given random_lighthouse function to generate 3-10 lighthouses. \n",
        "# It generates random sets of 3-10 lighthouses and then run the algorithm\n",
        "# Since we call the function at the top, I subtract the previous calls.\n",
        "\n",
        "execution_steps_mf=[]\n",
        "steps_mf =[]\n",
        "for i in range(3,11):\n",
        "    TRAVEL_TIME = fix_lookup(TRAVEL_TIME)\n",
        "    LIGHTS = list(set([item  for  k  in  TRAVEL_TIME.keys()  for  item  in  k])) \n",
        "    TRAVEL_TIME_rand, LIGHTS  = random_lighthouses(i)\n",
        "    start_light = LIGHTS[0] \n",
        "    best_tour, best_time = MF(start_light, sorted_TRAVEL_TIME(TRAVEL_TIME_rand))\n",
        "    execution_steps_mf.append(count_mf-4)\n",
        "    steps_mf.append(i)\n",
        "print(execution_steps_mf)\n",
        "print(steps_mf)"
      ],
      "execution_count": 14,
      "outputs": [
        {
          "output_type": "stream",
          "text": [
            "[2, 5, 9, 14, 20, 27, 35, 44]\n",
            "[3, 4, 5, 6, 7, 8, 9, 10]\n"
          ],
          "name": "stdout"
        }
      ]
    },
    {
      "cell_type": "code",
      "metadata": {
        "id": "OdfvoZ7fHPAr",
        "colab": {
          "base_uri": "https://localhost:8080/",
          "height": 308
        },
        "outputId": "9a9c5fe0-696c-4acc-aff9-9da87054e5c4"
      },
      "source": [
        "# My Plot Code\n",
        "# At first, I tried to combine both brute-force execution steps and multi-fragment execution steps.\n",
        "# Since the difference between the two graphs is huge, I tried to separate the two graphs. \n",
        "\n",
        "plt.rcParams['figure.figsize'] = [10,5]\n",
        "fig, (ax1,ax2) = plt.subplots(1,2, figsize=(15,4)) # plt.subplots(1, 1)\n",
        "fig.suptitle('Execution Steps Analysis:Brute-force vs. MF', size=\"xx-large\")\n",
        "plt.subplots_adjust(top=0.8)\n",
        "\n",
        "ax1.set_title('Brute-force', size=\"x-large\")\n",
        "ax2.set_title('Multi-Fragment Heuristic', size=\"x-large\")\n",
        "\n",
        "ax1.plot(steps_bf, execution_steps_bf, \"b^-\", markersize=0, linewidth=2, label=\"Brute_force\")\n",
        "ax2.plot(steps_mf, execution_steps_mf, \"g^-\", markersize=0, linewidth=2, label=\"Multi-Fragment Heuristic\")\n",
        "\n",
        "ax1.grid(b=True, which='major', axis='both')\n",
        "ax1.legend(loc=(0.05,0.85), scatterpoints=1)\n",
        "ax1.set(xlabel = 'Input Size(Number of Points)', ylabel = 'Execution Steps')\n",
        "\n",
        "ax2.grid(b=True, which='major', axis='both')\n",
        "ax2.legend(loc=(0.05,0.85), scatterpoints=1)\n",
        "ax2.set(xlabel = 'Input Size(Number of Points)', ylabel = 'Execution Steps')"
      ],
      "execution_count": 15,
      "outputs": [
        {
          "output_type": "execute_result",
          "data": {
            "text/plain": [
              "[Text(0, 0.5, 'Execution Steps'), Text(0.5, 0, 'Input Size(Number of Points)')]"
            ]
          },
          "metadata": {
            "tags": []
          },
          "execution_count": 15
        },
        {
          "output_type": "display_data",
          "data": {
            "image/png": "[encoded data removed]",
            "text/plain": [
              "<Figure size 1080x288 with 2 Axes>"
            ]
          },
          "metadata": {
            "tags": [],
            "needs_background": "light"
          }
        }
      ]
    },
    {
      "cell_type": "code",
      "metadata": {
        "colab": {
          "base_uri": "https://localhost:8080/",
          "height": 374
        },
        "id": "JsjoRNpP6yIK",
        "outputId": "c980af4d-18e5-41e1-e3aa-455a59212aed"
      },
      "source": [
        "new_myruncounts_2 = [0.8*x**1.9 for x in range(11)] \n",
        "\n",
        "# benchmark data set generation\n",
        "TestVal3_1  = [0,] # linear for O(n)\n",
        "TestVal3_2 = [0,] # quadratic for O(n^2)\n",
        "TestVal3_3 = [0,] # n*log(n) for O(nlog(n))\n",
        "TestVal3_4 = [0,] # 5*n*log(n) for O(nlog(n))\n",
        "\n",
        "for i in range(1, len(new_myruncounts_2)):\n",
        "    TestVal3_1.append(i)\n",
        "    TestVal3_2.append(pow(i, 2))\n",
        "    TestVal3_3.append(i*log2(i))\n",
        "    TestVal3_4.append(5*i*log2(i))\n",
        "\n",
        "plt.rcParams['figure.figsize'] = [10,5]\n",
        "fig, (ax1) = plt.subplots(1, 1)\n",
        "fig.suptitle('Execution Steps Analysis', size=\"xx-large\")\n",
        "\n",
        "ax1.plot(steps_mf, execution_steps_mf, \"rx-\", markersize=0, linewidth=3, label=\"Multi-Fragment\")\n",
        "ax1.plot(range(len(new_myruncounts_2)), TestVal3_1, \"m^-\", markersize=0, linewidth=1, label=\"benchmark O(n)\")\n",
        "ax1.plot(range(len(new_myruncounts_2)), TestVal3_2, \"g^-\", markersize=0, linewidth=1, label=\"benchmark O(nlog(n))\")\n",
        "ax1.plot(range(len(new_myruncounts_2)), TestVal3_3, \"y^-\", markersize=0, linewidth=1, label=\"benchmark O(5*nlog(n))\")\n",
        "ax1.plot(range(len(new_myruncounts_2)), TestVal3_4, \"b^-\", markersize=0, linewidth=1, label=\"benchmark O(n^2)\")\n",
        "ax1.grid(b=True, which='major', axis='both')\n",
        "ax1.legend(loc=(0.05,0.85), scatterpoints=1)\n",
        "\n",
        "ax1.set_title('Multi-Fragment Execution Steps with Input Size 10', size=\"x-large\")\n",
        "\n",
        "ax1.set(xlabel = 'Input Size', ylabel = 'Execution Steps')\n",
        "ax1.legend(loc=(0.05,0.65), scatterpoints=1)\n",
        "ax1.tick_params(axis=\"both\", which=\"major\", labelsize=14)"
      ],
      "execution_count": 16,
      "outputs": [
        {
          "output_type": "display_data",
          "data": {
            "image/png": "[encoded data removed]",
            "text/plain": [
              "<Figure size 720x360 with 1 Axes>"
            ]
          },
          "metadata": {
            "tags": [],
            "needs_background": "light"
          }
        }
      ]
    },
    {
      "cell_type": "markdown",
      "metadata": {
        "id": "jIyf2-1D6yIP"
      },
      "source": [
        "### Accuracy"
      ]
    },
    {
      "cell_type": "code",
      "metadata": {
        "id": "XgJeoVpa6yIP"
      },
      "source": [
        "# Accuracy \n",
        "#    It runs 10 trials for 4-10 random lighthouse points. \n",
        "#    It runs both the Brute-force algorithm and MF algorithm. \n",
        "#    It stores the tour time for each algorithm. \n",
        "\n",
        "Tbf_test = []\n",
        "Tmf_test = []\n",
        "for _ in range(10): #10 trials\n",
        "    for i in range(4, 11): #From 4 points to 10 points\n",
        "        TRAVEL_TIME = fix_lookup(TRAVEL_TIME)\n",
        "        LIGHTS = list(set([item  for  k  in  TRAVEL_TIME.keys()  for  item  in  k])) \n",
        "        TRAVEL_TIME_rand, LIGHTS  = random_lighthouses(i)\n",
        "        start_light = LIGHTS[0] \n",
        "        L_minus = list_minus(LIGHTS, start_light)\n",
        "        #Brute-force algorithm\n",
        "        best_tour_bf, best_time_bf = fastest_tour(start_light, L_minus)\n",
        "        #MF algorithm\n",
        "        best_tour_mf, best_time_mf =MF(start_light, sorted_TRAVEL_TIME(TRAVEL_TIME_rand))\n",
        "        Tbf_test.append(best_time_bf) \n",
        "        Tmf_test.append(best_time_mf)\n",
        "\n",
        "# It stores the tour time data as \n",
        "# [4, 5, 6, 7, 8, 9, 10,4, 5, 6, 7, 8, 9, 10,..., 4, 5, 6, 7, 8, 9, 10]\n",
        "        \n",
        "#But, I need to change the tour time data into form of \n",
        "# [ [1, 2, 3, 4, 5, 6, 7, 8, 9, 10], Points 4\n",
        "#   [1, 2, 3, 4, 5, 6, 7, 8, 9, 10], Points 5\n",
        "#   ...                              ....\n",
        "#   [1, 2, 3, 4, 5, 6, 7, 8, 9, 10], Points 10\n",
        "#]"
      ],
      "execution_count": 17,
      "outputs": []
    },
    {
      "cell_type": "code",
      "metadata": {
        "id": "47yrtu-p6yIP"
      },
      "source": [
        "# To change the tour data form\n",
        "# I break the tour time data by the number of trials which is 10.\n",
        "# I transposes the matrix, so I can take the number of trials by the number of points.\n",
        "n =10\n",
        "Tbf_list = [Tbf_test[i:i + n] for i in range(0, len(Tbf_test), n)] \n",
        "Tmf_list = [Tmf_test[i:i + n] for i in range(0, len(Tmf_test), n)]\n",
        "\n",
        "# After breaking tour time data by number of trials (Tbf_list/Tmf_list)\n",
        "# [ [4, 5, 6, 7, 8, 9, 10], Trial 1\n",
        "#   [4, 5, 6, 7, 8, 9, 10], Trial 2\n",
        "#   .....                   ...\n",
        "#   [4, 5, 6, 7, 8, 9, 10]  Trial 10 \n",
        "#]\n",
        "\n",
        "Tbf = [[Tbf_list[j][i] for j in range(len(Tbf_list))] for i in range(len(Tbf_list[0]))]\n",
        "Tmf = [[Tmf_list[j][i] for j in range(len(Tmf_list))] for i in range(len(Tmf_list[0]))]\n",
        "\n",
        "# After transposing the matrix, I was able to change the data form I wanted. (Tbf/Tmf)\n",
        "# [ [1, 2, 3, 4, 5, 6, 7, 8, 9, 10], Points 4\n",
        "#   [1, 2, 3, 4, 5, 6, 7, 8, 9, 10], Points 5\n",
        "#   ...                              ....\n",
        "#   [1, 2, 3, 4, 5, 6, 7, 8, 9, 10]  Points 10\n",
        "#]"
      ],
      "execution_count": 18,
      "outputs": []
    },
    {
      "cell_type": "code",
      "metadata": {
        "colab": {
          "base_uri": "https://localhost:8080/"
        },
        "id": "gBxwdUMb6yIQ",
        "outputId": "ecac6c34-4027-472d-e536-466728401667"
      },
      "source": [
        "# Compute the accuracy\n",
        "# To compute the accuracy, I need to compare brute-force and Multi-Fragment. \n",
        "# It computes the accuracy using Percent Error Formula.\n",
        "# Error between brute-force and Multi-Fragment: (𝑇𝑚𝑓−𝑇𝑏𝑓)/𝑇𝑏𝑓\n",
        "# It multiplies by 100 to represent the result in terms of percent. \n",
        "\n",
        "accuracy_n =[]\n",
        "for i in range(0, 10):\n",
        "    for j in range(0, len(Tbf[i])):\n",
        "        accuracy = abs(Tmf[i][j]-Tbf[i][j]) / abs(Tbf[i][j]) \n",
        "        accuracy_percent = accuracy*100\n",
        "        accuracy_n.append(accuracy_percent)     \n",
        "# accuracy_n \n",
        "# [4, 4, 4, 4, 4, 4, 4, 4, 4, 4,...,10, 10, 10, 10, 10, 10, 10, 10, 10, 10]\n",
        "\n",
        "# Since the accuracy_n list represents all the percent in one list, it needs to change the list form into a 2d matrix. \n",
        "# I changes the form into a 2d matrix to represent the percent for each point in the graph. \n",
        "# I computes the average of the accuracy of each point. \n",
        "\n",
        "n=10 \n",
        "accuracy_list= [accuracy_n[i:i + n] for i in range(0, len(accuracy_n), n)]\n",
        "# accuracy_list\n",
        "# # [ [4, 4, 4, 4, 4, 4, 4, 4, 4, 4], \n",
        "#     [5, 5, 5, 5, 5, 5, 5, 5, 5, 5], \n",
        "#     ...                            \n",
        "#    [10, 10, 10, 10, 10, 10, 10, 10, 10, 10] \n",
        "#]\n",
        "\n",
        "computed_accuracy = []\n",
        "for i in range(len(accuracy_list)):\n",
        "    average_accuracy = sum(accuracy_list[i]) / len(accuracy_list[i])\n",
        "    computed_accuracy.append(average_accuracy)\n",
        "\n",
        "accuracy_percent_list=[]\n",
        "for i in range(4, 11):\n",
        "    accuracy_percent_list.append(i)\n",
        "print(accuracy_percent_list)\n",
        "print(computed_accuracy)"
      ],
      "execution_count": 19,
      "outputs": [
        {
          "output_type": "stream",
          "text": [
            "[4, 5, 6, 7, 8, 9, 10]\n",
            "[2.3601291442247665, 4.232518936663228, 2.9001158261762576, 3.278734517350389, 3.497041029593183, 3.324210208523082, 4.174993120127721]\n"
          ],
          "name": "stdout"
        }
      ]
    },
    {
      "cell_type": "code",
      "metadata": {
        "colab": {
          "base_uri": "https://localhost:8080/",
          "height": 389
        },
        "id": "Oppn2y_k6yIS",
        "outputId": "7b5362c2-fbdf-4612-ef99-3b39e554a119"
      },
      "source": [
        "plt.rcParams['figure.figsize'] = [10,5]\n",
        "fig, (ax1) = plt.subplots(1, 1)\n",
        "fig.suptitle('Accuracy Analysis', size=\"xx-large\")\n",
        "ax1.set_title('brute-force vs. MF', size=\"x-large\")\n",
        "\n",
        "ax1.plot(accuracy_percent_list, computed_accuracy, \"b^-\", markersize=0, linewidth=2, label=\"Accuracy\")\n",
        "ax1.grid(b=True, which='major', axis='both')\n",
        "ax1.legend(loc=(0.05,0.85), scatterpoints=1)\n",
        "ax1.set(xlabel = '# of Points', ylabel = 'Accuracy(%)')"
      ],
      "execution_count": 20,
      "outputs": [
        {
          "output_type": "execute_result",
          "data": {
            "text/plain": [
              "[Text(0, 0.5, 'Accuracy(%)'), Text(0.5, 0, '# of Points')]"
            ]
          },
          "metadata": {
            "tags": []
          },
          "execution_count": 20
        },
        {
          "output_type": "display_data",
          "data": {
            "image/png": "[encoded data removed]",
            "text/plain": [
              "<Figure size 720x360 with 1 Axes>"
            ]
          },
          "metadata": {
            "tags": [],
            "needs_background": "light"
          }
        }
      ]
    },
    {
      "cell_type": "code",
      "metadata": {
        "colab": {
          "base_uri": "https://localhost:8080/"
        },
        "id": "peSGpIYr6yIV",
        "outputId": "c6fa2210-52c5-4518-9a0b-77d5e5641051"
      },
      "source": [
        "# It computes the overall percent accuracy\n",
        "overall_accuracy_percentage = sum(accuracy_n) / len(accuracy_n)\n",
        "overall_accuracy_percentage"
      ],
      "execution_count": 21,
      "outputs": [
        {
          "output_type": "execute_result",
          "data": {
            "text/plain": [
              "3.39539182609409"
            ]
          },
          "metadata": {
            "tags": []
          },
          "execution_count": 21
        }
      ]
    },
    {
      "cell_type": "markdown",
      "metadata": {
        "id": "nB-_Sge6HROj"
      },
      "source": [
        "**Analysis:** **State your findings on accuracy and execution steps.  Talk to the graph a little.  Plots (and writeup) must tell a story.**"
      ]
    },
    {
      "cell_type": "markdown",
      "metadata": {
        "id": "mWsAPAiW6yIX"
      },
      "source": [
        "To analyze the accuracy of the brute-force and multi-fragment algorithm, I run the algorithm for 10 trials with 4 to 10 points. I was able to measure the average accuracy percent of all trials using the percent error formula((𝑇𝑚𝑓−𝑇𝑏𝑓)/𝑇𝑏𝑓). By measuring/analyzing the accuracy of all trials for all points, I know the overall percent error between brute-force value and multi-fragment value is around 4%.  \n",
        "\n",
        "To analyze the computational complexity of the brute-force and multi-fragment(MF) algorithm, I run both algorithms using the random_lighthouse function with 3-10 points. Theoretically, the computational complexity of the recursive brute-force algorithm should be O($n^2$$2^n$) because there are n possible start vertices and $2^n$ vertices. Also, the computational complexity of the multi-fragment algorithm should be O($n^2$) because it gives the same permutation for each run. Based on the two graphs, it shows that the MF graph shows huge improvement compare to the brute-force graph. Based on the analysis of brute-force execution steps, we know the computational complexity of my brute-force algorithm $\\Theta$($n^2$$2^n$).\n",
        "\n",
        "To analyze the MF execution steps, I tried to compare with other complexity such as O($n$), O($nlog(n)$), O($5*nlog(n)$) and O($n^2$). I tried to plot the graph with an input size of 10 because I only measure the execution steps with 10 points. By analyzing the execution steps, I realized that the time complexity of the MF algorithm shows between O($nlog(n)$) and O($5*nlog(n)$). So, I realized that the computational complexity of my brute-force algorithm is $\\Theta$($5*nlog(n)$).  \n",
        "\n",
        "By analyzing the computational complexity of the brute-force and multi-fragment(MF) algorithm, I realized that the time complexity of recursive brute-force is $\\Theta$($n^2$$2^n$) and MF is $\\Theta$($5*nlog(n)$). By comparing the Theoretical result and experimental result, I was able to come up with the correct complexity for recursive brute-force, but not MF algorithm. I think I couldn't get the correct complexity for the MF algorithm because I implemented the MF algorithm and small input size. Even though I couldn't come up with the correct complexity for the MF algorithm, I learned that we can improve the performance of brute-force using the MF algorithm. \n",
        "\n",
        "Multi-Fragment Heuristic algorithm is one way to create an approximation solution to the Traveling salesman problem. By analyzing accuracy and execution steps, the Multi-Fragment algorithm finds tour differ by about 4% from the optimal solution. Also, it can significantly improve the time complexity of the brute-force algorithm. "
      ]
    },
    {
      "cell_type": "markdown",
      "metadata": {
        "id": "amTMLeiPBBOM"
      },
      "source": [
        "## Retrospection (10 total)\n",
        "Talk about how you did on this assignment.  This is just feedback to the instructor.  You can edit this cell and answer inline in non-bold.\n",
        "* **What was the last bug you found and fixed?**\\\n",
        "The bug that I found most is a logic error. For this assignment, the input type is a dictionary tuple. Since I was struggling to deal with dictionary tuple input, I kept getting logic errors during the implementation. I was able to fix this error by changing from the tuple data type to list data type.\n",
        "\n",
        "* **What are some late-breaking ideas you had for improving your implementation, that maybe you didn't have time to implement?**\\\n",
        "For this assignment, I was able to figure out how to solve the traveling salesman problem using the recursive brute force algorithm and nearest neighbor algorithm. However, I didn't have time to implement the perfect multi-fragment heuristic algorithm. I know that there are three key components of the multi-fragment heuristic algorithm. The first component is the graph edges should be sorted. The second component is graph edges shouldn't create the cycle. The last component is the graph edge shouldn't be connected to more than two other edges. For the multi-fragment heuristic algorithm, I was able to include the first component and second component in my algorithm. But, I couldn't figure out how to include the last component in my algorithm. So, If I have time, then I will try to implement a perfect multi-fragment heuristic algorithm. \n",
        "* **What did you feel you learned from this assignment?**\\\n",
        "From this assignment, I learned how to deal with dictionary tuple input. In this assignment, I learned about how to approach the traveling salesman problem. I learned that I can solve TSP by using recursive brute force, nearest neighbor, and multi-fragment heuristic. By comparing the different types of the algorithm, I learned how to improve the certain type of algorithm to produce better time complexity and better performance. \n",
        "* **How would you improve this assignment for future semesters?**\\\n",
        "For this assignment, I constructed the pseudocode from the recursive brute-force algorithm and nearest neighbor algorithm before I started to implement it. However, I couldn't construct the perfect multi-fragment heuristic algorithm before I implement it. So, I had trouble structuring how to implement this algorithm. For the future assignment, I will try to construct the algorithm to figure out what is going on with the algorithm before I even start doing the implementation.\n",
        "\n",
        "If there's anything else you'd like to say, feel free to write it.\n"
      ]
    },
    {
      "cell_type": "markdown",
      "metadata": {
        "id": "kOjHZs5zBBON"
      },
      "source": [
        "# Citations\n",
        "\n",
        "Using this [reference1](https://stackoverflow.com/questions/59333807/how-can-i-label-a-node-that-is-the-initial-vertex-in-a-cycle-from-graph-data), I was able to figure out how to detect the cycle in the graph array.\n",
        "\n",
        "Using this [reference2](https://www.geeksforgeeks.org/break-list-chunks-size-n-python/), I was able to figure out how to break the tour_time by the number of trials.\n",
        "\n",
        "Using this [reference3](https://www.geeksforgeeks.org/transpose-matrix-single-line-python/), I was able to figure out how to transpose the matrix, so I can take the number of trials by the number of points."
      ]
    },
    {
      "cell_type": "markdown",
      "metadata": {
        "id": "4jiwgxlwuq7l"
      },
      "source": [
        "# Instructor Test Data\n",
        "This is where the instructor will paste the test code and possibly additional data.  Some data with results are provided to help you debug, but we may test with different data.  Ensure your function works in this block."
      ]
    },
    {
      "cell_type": "code",
      "metadata": {
        "id": "drwM53P1BBOO",
        "colab": {
          "base_uri": "https://localhost:8080/"
        },
        "outputId": "07b55428-72d2-4f52-b524-7aa5cd705f09"
      },
      "source": [
        "# INSTRUCTOR-PROVIDED TEST DATA\n",
        "# Ensure that your code matches both the input signature and the expected output\n",
        "# For grading, different test data will be pasted into the input cell and your code cells will be executed\n",
        "# Be sure that your input and output signatures match the provided sample data\n",
        "\n",
        "# Test #1\n",
        "TRAVEL_TIME = { \n",
        "      ('D', 'E') : 9.8874546134365 ,\n",
        "      ('D', 'B') : 8.650955785569098 ,\n",
        "      ('D', 'C') : 4.527990409960845 ,\n",
        "      ('D', 'A') : 9.817667809230786 ,\n",
        "      ('E', 'B') : 10.931854306263975 ,\n",
        "      ('E', 'C') : 7.255251488484818 ,\n",
        "      ('E', 'A') : 12.917982527478712 ,\n",
        "      ('B', 'C') : 4.113565483054365 ,\n",
        "      ('B', 'A') : 9.560863383439097 ,\n",
        "      ('C', 'A') : 7.854345573910511 ,\n",
        "}\n",
        "# Expected output\n",
        "# The best tour is:  A, B, C, D, E\n",
        "# The best time is:  28.089873889890804\n",
        "\n",
        "TRAVEL_TIME = fix_lookup(TRAVEL_TIME)\n",
        "LIGHTS = list(set([item for k in TRAVEL_TIME.keys() for item in k]))\n",
        "start_light = LIGHTS[0] # NOTE! Replace this as necessary\n",
        "L_minus = list_minus(LIGHTS, start_light)\n",
        "best_tour_bf, best_time_bf = fastest_tour(start_light, L_minus)\n",
        "best_tour_mf, best_time_mf =MF(start_light, sorted_TRAVEL_TIME(TRAVEL_TIME))\n",
        "print(\"Test #1\")\n",
        "print(\"The best tour for brute-force is: \", ', '.join(best_tour_bf))\n",
        "print(\"The best time for brute-force  is: \", best_time_bf)\n",
        "print(\"The best tour for Multi-fragment is: \", ', '.join(best_tour_mf))\n",
        "print(\"The best time for Multi-fragment is: \", best_time_mf)\n",
        "print(\"\")\n",
        "\n",
        "# Test #2\n",
        "TRAVEL_TIME = { \n",
        "      ('B', 'C') : 6.429795406216918 ,\n",
        "      ('B', 'A') : 11.629846115160516 ,\n",
        "      ('B', 'D') : 7.679251919404714 ,\n",
        "      ('B', 'E') : 9.347706263090837 ,\n",
        "      ('C', 'A') : 12.280646160363432 ,\n",
        "      ('C', 'D') : 7.746192483295421 ,\n",
        "      ('C', 'E') : 9.90681627370574 ,\n",
        "      ('A', 'D') : 12.227183481562683 ,\n",
        "      ('A', 'E') : 16.655823285647106 ,\n",
        "      ('D', 'E') : 8.25715774835559 ,\n",
        "}\n",
        "# Expected output\n",
        "# The best tour is:  A, B, C, D, E\n",
        "# The best time is:  34.06299175302845\n",
        "\n",
        "TRAVEL_TIME = fix_lookup(TRAVEL_TIME)\n",
        "LIGHTS = list(set([item for k in TRAVEL_TIME.keys() for item in k]))\n",
        "start_light = LIGHTS[0] # NOTE! Replace this as necessary\n",
        "L_minus = list_minus(LIGHTS, start_light)\n",
        "best_tour_bf, best_time_bf = fastest_tour(start_light, L_minus)\n",
        "best_tour_mf, best_time_mf =MF(start_light, sorted_TRAVEL_TIME(TRAVEL_TIME))\n",
        "print(\"Test #2\")\n",
        "print(\"The best tour for brute-force is: \", ', '.join(best_tour_bf))\n",
        "print(\"The best time for brute-force  is: \", best_time_bf)\n",
        "print(\"The best tour for Multi-fragment is: \", ', '.join(best_tour_mf))\n",
        "print(\"The best time for Multi-fragment is: \", best_time_mf)\n",
        "print(\"\")\n",
        "\n",
        "# Test #3\n",
        "TRAVEL_TIME = { \n",
        "      ('F', 'E') : 7.453320453415392 ,\n",
        "      ('F', 'D') : 6.170569410345761 ,\n",
        "      ('F', 'I') : 10.448429302986911 ,\n",
        "      ('F', 'G') : 6.187750187309644 ,\n",
        "      ('F', 'C') : 12.090422838563583 ,\n",
        "      ('F', 'H') : 11.539119418380032 ,\n",
        "      ('F', 'A') : 13.23865323724485 ,\n",
        "      ('F', 'J') : 14.209616157057711 ,\n",
        "      ('F', 'B') : 12.029520235766265 ,\n",
        "      ('E', 'D') : 4.594971038617467 ,\n",
        "      ('E', 'I') : 9.488857351897519 ,\n",
        "      ('E', 'G') : 4.661282508675182 ,\n",
        "      ('E', 'C') : 10.705763401441896 ,\n",
        "      ('E', 'H') : 10.12354365573923 ,\n",
        "      ('E', 'A') : 12.05863087182219 ,\n",
        "      ('E', 'J') : 12.857918364285274 ,\n",
        "      ('E', 'B') : 10.915808926216425 ,\n",
        "      ('D', 'I') : 8.773798408565863 ,\n",
        "      ('D', 'G') : 3.549820998388679 ,\n",
        "      ('D', 'C') : 9.084763991756446 ,\n",
        "      ('D', 'H') : 8.47244200438249 ,\n",
        "      ('D', 'A') : 10.768085646027655 ,\n",
        "      ('D', 'J') : 11.205467989446557 ,\n",
        "      ('D', 'B') : 9.811703475051996 ,\n",
        "      ('I', 'G') : 4.856711290250502 ,\n",
        "      ('I', 'C') : 10.303247633652786 ,\n",
        "      ('I', 'H') : 9.72873923304563 ,\n",
        "      ('I', 'A') : 11.752971702744057 ,\n",
        "      ('I', 'J') : 12.386140947772116 ,\n",
        "      ('I', 'B') : 10.715926552978804 ,\n",
        "      ('G', 'C') : 8.939922836985131 ,\n",
        "      ('G', 'H') : 8.325372714362043 ,\n",
        "      ('G', 'A') : 10.658709470483634 ,\n",
        "      ('G', 'J') : 11.05300320168352 ,\n",
        "      ('G', 'B') : 9.726036954632448 ,\n",
        "      ('C', 'H') : 14.85107596522508 ,\n",
        "      ('C', 'A') : 16.127909792272288 ,\n",
        "      ('C', 'J') : 17.54748278310382 ,\n",
        "      ('C', 'B') : 14.699070399680458 ,\n",
        "      ('H', 'A') : 15.723529687188293 ,\n",
        "      ('H', 'J') : 17.10791004081554 ,\n",
        "      ('H', 'B') : 14.306778662449995 ,\n",
        "      ('A', 'J') : 16.949188359233272 ,\n",
        "      ('A', 'B') : 14.239542023142393 ,\n",
        "      ('J', 'B') : 16.6207970728817 ,\n",
        "}\n",
        "# Expected output\n",
        "# The best tour is:  A, B, C, D, E, F, G, H, I, J\n",
        "# The best time is:  86.69967098910159\n",
        "\n",
        "TRAVEL_TIME = fix_lookup(TRAVEL_TIME)\n",
        "LIGHTS = list(set([item for k in TRAVEL_TIME.keys() for item in k]))\n",
        "start_light = LIGHTS[0] # NOTE! Replace this as necessary\n",
        "L_minus = list_minus(LIGHTS, start_light)\n",
        "best_tour_bf, best_time_bf = fastest_tour(start_light, L_minus)\n",
        "best_tour_mf, best_time_mf =MF(start_light, sorted_TRAVEL_TIME(TRAVEL_TIME))\n",
        "print(\"Test #3\")\n",
        "print(\"The best tour for brute-force is: \", ', '.join(best_tour_bf))\n",
        "print(\"The best time for brute-force  is: \", best_time_bf)\n",
        "print(\"The best tour for Multi-fragment is: \", ', '.join(best_tour_mf))\n",
        "print(\"The best time for Multi-fragment is: \", best_time_mf)\n",
        "print(\"\")\n",
        "\n",
        "# Test 4 - test against some actual lighthouses used in the challenge, so\n",
        "# you can see the original motivation for this assignment.  Times are from\n",
        "# maps.google.com and reflect best possible driving times between two \n",
        "# lighthouses subject to current traffic conditions.\n",
        "TRAVEL_TIME = { \n",
        "      ('Fort Washington', 'Choptank River') : 2.05 ,\n",
        "      ('Fort Washington', 'Hooper Strait') : 1.9333333333333333 ,\n",
        "      ('Fort Washington', 'Point Lookout') : 1.8333333333333335 ,\n",
        "      ('Fort Washington', 'Sandy Point') : 1.1 ,\n",
        "      ('Fort Washington', 'Cove Point') : 1.4666666666666668 ,\n",
        "      ('Fort Washington', 'Drum Point') : 1.3833333333333333 ,\n",
        "      ('Choptank River', 'Hooper Strait') : 0.65 ,\n",
        "      ('Choptank River', 'Point Lookout') : 3.066666666666667 ,\n",
        "      ('Choptank River', 'Sandy Point') : 1.1 ,\n",
        "      ('Choptank River', 'Drum Point') : 2.3833333333333333 ,\n",
        "      ('Choptank River', 'Cove Point') : 2.3833333333333333 ,\n",
        "      ('Hooper Strait', 'Point Lookout') : 2.966666666666667 ,\n",
        "      ('Hooper Strait', 'Sandy Point') : 1.0 ,\n",
        "      ('Hooper Strait', 'Drum Point') : 2.283333333333333 ,\n",
        "      ('Hooper Strait', 'Cove Point') : 2.283333333333333 ,\n",
        "      ('Point Lookout', 'Sandy Point') : 2.1166666666666667 ,\n",
        "      ('Point Lookout', 'Drum Point') : 0.6833333333333333 ,\n",
        "      ('Point Lookout', 'Cove Point') : 0.8833333333333333 ,\n",
        "      ('Sandy Point', 'Drum Point') : 1.4333333333333333 ,\n",
        "      ('Sandy Point', 'Cove Point') : 1.45 ,\n",
        "      ('Drum Point', 'Cove Point') : 0.25 ,\n",
        "}\n",
        "# Expected output\n",
        "# The best tour is:  Point Lookout, Drum Point, Cove Point, Fort Washington, Sandy Point, Hooper Strait, Choptank River\n",
        "# The best time is:  5.15\n",
        "\n",
        "TRAVEL_TIME = fix_lookup(TRAVEL_TIME)\n",
        "LIGHTS = list(set([item for k in TRAVEL_TIME.keys() for item in k]))\n",
        "start_light = LIGHTS[0] # NOTE! Replace this as necessary\n",
        "L_minus = list_minus(LIGHTS, start_light)\n",
        "best_tour_bf, best_time_bf = fastest_tour(start_light, L_minus)\n",
        "best_tour_mf, best_time_mf =MF(start_light, sorted_TRAVEL_TIME(TRAVEL_TIME))\n",
        "print(\"Test #4\")\n",
        "print(\"The best tour for brute-force is: \", ', '.join(best_tour_bf))\n",
        "print(\"The best time for brute-force  is: \", best_time_bf)\n",
        "print(\"The best tour for Multi-fragment is: \", ', '.join(best_tour_mf))\n",
        "print(\"The best time for Multi-fragment is: \", best_time_mf)\n",
        "print(\"\")\n",
        "\n",
        "# If you want to visualize this tour, it's here:\n",
        "# https://goo.gl/maps/h9NbbQT5kS3S6kZ98\n",
        "# If you go there, try reversing the order of Drum Point and Cove Point.\n",
        "# Depending on the time of day, it may be faster to take one over the other.\n",
        "# That is, it may be faster to skip past Drum Point and head to Cove Point,\n",
        "# then come back to Drum on way to rt 235.  At certain times, the time from \n",
        "# Cove to Ft. Washington is actually more than backtracking to the faster\n",
        "# route 235 and heading to Ft. Washington that way.  This is what makes TSP\n",
        "# such an interesting problem.\n",
        "\n",
        "print(\"\")"
      ],
      "execution_count": 22,
      "outputs": [
        {
          "output_type": "stream",
          "text": [
            "Test #1\n",
            "The best tour for brute-force is:  D, A, B, C, E\n",
            "The best time for brute-force  is:  30.747348164209065\n",
            "The best tour for Multi-fragment is:  D, C, B, A, E\n",
            "The best time for Multi-fragment is:  31.12040180393302\n",
            "\n",
            "Test #2\n",
            "The best tour for brute-force is:  D, E, C, B, A\n",
            "The best time for brute-force  is:  36.22361554343877\n",
            "The best tour for Multi-fragment is:  D, B, C, E, A\n",
            "The best time for Multi-fragment is:  40.67168688497448\n",
            "\n",
            "Test #3\n",
            "The best tour for brute-force is:  G, F, E, D, H, I, C, B, A, J\n",
            "The best time for brute-force  is:  92.62827133247954\n",
            "The best tour for Multi-fragment is:  G, D, E, F, I, H, B, A, C, J\n",
            "The best time for Multi-fragment is:  97.99699428742258\n",
            "\n",
            "Test #4\n",
            "The best tour for brute-force is:  Fort Washington, Point Lookout, Drum Point, Cove Point, Sandy Point, Hooper Strait, Choptank River\n",
            "The best time for brute-force  is:  5.866666666666667\n",
            "The best tour for Multi-fragment is:  Fort Washington, Sandy Point, Hooper Strait, Choptank River, Cove Point, Drum Point, Point Lookout\n",
            "The best time for Multi-fragment is:  6.066666666666666\n",
            "\n",
            "\n"
          ],
          "name": "stdout"
        }
      ]
    }
  ]
}