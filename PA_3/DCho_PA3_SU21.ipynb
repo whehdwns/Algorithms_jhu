{
 "cells": [
  {
   "cell_type": "markdown",
   "metadata": {
    "id": "oS--elmpJi9p"
   },
   "source": [
    "# Statement of Academic Integrity\n",
    "Place your statement of academic integrity here\n",
    "\n",
    "I, Dongjun Cho, attempted to answer each question honestly and to the best of my abilities. I cited any and all help that I received in completing this assignment. "
   ]
  },
  {
   "cell_type": "markdown",
   "metadata": {
    "id": "c4QP9-8CSj1M"
   },
   "source": [
    "# Instructions to Students\n",
    "This programming assignment is contained entirely in this IPython/Jupyter notebook. You are to read the problem from this notebook, and answer questions/make required modifications in this same notebook and submit it as a notebook.  Look for **boldface** for where to put your answers.  Do not delete the problem statements, text, etc, leave all that as-is (makes grading easier), unlike with the homeworks."
   ]
  },
  {
   "cell_type": "markdown",
   "metadata": {
    "id": "oXbl8QG9Sj1N"
   },
   "source": [
    "# Overview\n",
    "\n",
    "You are consulting for a group of people (who would prefer not to be mentioned here by name) whose job consists of monitoring and analyzing electronic signals coming from ships in the Atlantic ocean. They want a fast algorithm for _untangling_ a superposition of two known signals. You are to analyze an efficient algorithm that tells whether a signal s is a valid superposition of two known signals x and y, with x and y consisting of a common set of symbols, allowing for repeats of either x or y in s.\n",
    "\n",
    "In this alternative assignment, you will investigate an algorithm that the instructor adapted significantly from an article from [Geeks for Geeks, Find if a string is interleaved of two other strings | DP-33](https://www.geeksforgeeks.org/find-if-a-string-is-interleaved-of-two-other-strings-dp-33/), as their original algorithm was presented without explanation.  (You may look at that if it helps.)  This is a useful example of _memoization,_ a technique that saves prior state computed on overlapping subproblems to avoid repetitive calculations."
   ]
  },
  {
   "cell_type": "markdown",
   "metadata": {
    "id": "mrOCRSxrSj1N"
   },
   "source": [
    "# Algorithm\n",
    "The following is the instructor's adapted algorithm."
   ]
  },
  {
   "cell_type": "markdown",
   "metadata": {
    "id": "-VIZ1kQJSj1N"
   },
   "source": [
    "<!--- This is a Markdown comment. -->\n",
    "<!--- Separate the $...$ in many cases to get Latex to render properly.\n",
    "      In output LaTeX, use incorrectly closed <span hidden> to pass in LaTeX options. -->\n",
    "1. **function** isInterleaved(inA, inB, inS):\n",
    "1. $~~~~$ A, B, S = inA, inB, inS\n",
    "1. $~~~~$ m, n = len(A), len(B) _# A indexed by i, B indexed by j_\n",
    "\n",
    "1. $~~~~$ A = \"\\_\" $||$ A $~~~~$_#The underscore _ means the null symbol_\n",
    "1. $~~~~$ B = \"\\_\" $||$ B \n",
    "1. $~~~~$ S = \"\\_\" $||$ S\n",
    "\n",
    "1. $~~~~$ TL $\\gets$ _an m+1 by n+1 table of booleans all set to False initially_\n",
    "\n",
    "1. $~~~~$ TL$_{0,\\ 0} \\gets$ True\n",
    " \n",
    "1. $~~~~$ **for** i = 0 to m $~~~~$_# 0, 1, ... m-1, m_\n",
    "1. $~~~~~~~~$ **for** j = 0 to n\n",
    "1. $~~~~~~~~~~~~$ **if** i+j==0\n",
    "1. $~~~~~~~~~~~~~~~~$ **continue** $~~~~$_# skip rest of this loop, continue w/next j_\n",
    "1. $~~~~~~~~~~~~$ R$_a$, R$_b$ $\\gets$ False\n",
    "1. $~~~~~~~~~~~~$ **if** A$_i$ == S$_{i+j}$ **and** i $\\ge$ 1\n",
    "1. $~~~~~~~~~~~~~~~~$ R$_a$ $\\gets$ TL$_{i-1,\\ j}$\n",
    "1. $~~~~~~~~~~~~$ **if** B$_j$ == S$_{i+j}$ **and** j $\\ge$ 1\n",
    "1. $~~~~~~~~~~~~~~~~$ R$_b$ $\\gets$ TL$_{i,\\ j-1}$\n",
    "1. $~~~~~~~~~~~~$ TL$_{i,\\ j} \\gets$ R$_a$ **or** R$_b$\n",
    "1. $~~~~~~~~$ **end for**\n",
    "1. $~~~~$ **end for**\n",
    "1. $~~~~$ **if** TL$_{m,\\ n}$ == True\n",
    "1. $~~~~~~~~$ **return** 1, 1\n",
    "1. $~~~~$ **else**\n",
    "1. $~~~~~~~~$ **return** False\n",
    "1. **end function**"
   ]
  },
  {
   "cell_type": "markdown",
   "metadata": {
    "id": "JkmvgfqjSj1N"
   },
   "source": [
    "This algorithm accepts two collections of symbols inA and inB, called _strings_, and a third string inS that claims to be the output of an interleaving of the symbols of inA with those of inB.  The algorithm returns the count of the repetitions of A and B if inS is such an interleaving, else false.  It runs in O(mn) time.\n",
    "\n",
    "For those new to programming, the _continue_ statement \"bails out\" and jumps to the next iteration.  In a _for_ loop, this means set the index to the next value and run the loop again.  Recall that $||$ means concatenation such that ``\"h\" || \"ello\"`` $\\rightarrow$ ``\"hello\"``. "
   ]
  },
  {
   "cell_type": "markdown",
   "metadata": {
    "id": "kVlrqCJeSj1N"
   },
   "source": [
    "# Problems\n",
    "\n",
    "## Preliminaries - Trace Tables\n",
    "We're going to build an understanding of this algorithm by tracing through some examples.\n",
    "\n",
    "For each one of these traces, construct a _trace table_ to store the value of TL as follows.  \n",
    "\n",
    "Each entry in the trace table will consist of these characters and their associated meanings:\n",
    "\n",
    "* ***T*** $~~$ True\n",
    "* ***F*** $~~$ False\n",
    "* ***^*** $~~$ the value of the cell above (prev row)\n",
    "* ***&lt;*** $~~$ the value of the cell to the left (prev column)\n",
    "* ***+*** $~~$ the value of the cell above, logically ***or***'d with the value of the cell to the left\n",
    "\n",
    "For an input pattern A of length m, and B of length n, create a table with m+1 rows (going down) and n+1 columns (going across), all initialized to F.\n",
    "\n",
    "Put pattern A down the left side, so that each symbol in A starts off a new row.  Put pattern B across the top, so that each symbol in B is the head of its own column.  Set the first two entries in both row, and column, to the * character as a placeholder for the null symbol.\n",
    "\n",
    "## Example\n",
    "Here is an example trace table, showing a run of \"1001\" on patterns A=\"101\" and B=\"0\". <br>\n",
    "<br>\n",
    "\n",
    "|||\n",
    "|-|-|\n",
    "| A:|  101 |\n",
    "| B:|  0   |\n",
    "|String:|  1001|\n",
    "\n",
    "\n",
    "|       |   *   | **0** |\n",
    "|-------|-------|-------|\n",
    "|   *   |   T   |   F   |\n",
    "| **1** |   ^   |   <   |\n",
    "| **0** |   ^   |   +   |\n",
    "| **1** |   F   |   ^   |\n",
    "\n",
    "\n",
    "We construct the table by placing A down the left, B across the top.  We also use splats (\\*) as placeholders for the null character, as required in the algorithm.  Cells are indexed by row/column starting at 0,0.  Per the algorithm, cell (0,0) is set to T.\n",
    "\n",
    "To trace the algorithm, append a null character in front of every string.  Then, start at cell (1,0).  Line 15 of the algorithm says that if A\\[1\\] matches the first symbol in S, then the current cell \"inherits\" the value from the cell above it, so we mark it with a ***^***.  (Note how the null character causes us to index starting from 1.) Continuing down the row, cell (2,0) sees A\\[2\\] matching S\\[2\\], so it inherits from above.  Finally, cell (3,0) does not see a match between A\\[3\\] and S\\[3\\], and \\* from B can't match anything, so we get a ***F***.  \n",
    "\n",
    "Now, move onto the second column (first character of B) and repeat the process above.  Note at cell (2,2), the 3rd actual character of S (which is 0) matches both the second character of A and the first character of B, so it gets a ***+***. \n",
    "\n",
    "At the end, cell (m,n) will evaluate to True if S is an interleaving.  In this case, cell (3,2) holds the value True if you can start at cell (3,2) and, following the arrows, find at least one path back to cell (0,0).\n",
    "\n",
    "**In your writeups and answers, you may edit this cell in the notebook and copy the table as a starting point for building your own trace table.**\n",
    "\n",
    "\n"
   ]
  },
  {
   "cell_type": "markdown",
   "metadata": {
    "id": "Mr3FxFlnSj1N"
   },
   "source": [
    "## Problem 1 (10 total)\n",
    "### Part 1.a (5 pts)\n",
    "Trace the algorithm on S=10011 made of interleavings of single instances of A=101 and B=01.  Modify the following table to provide a trace:"
   ]
  },
  {
   "cell_type": "markdown",
   "metadata": {
    "id": "Lax76BLlSj1N"
   },
   "source": [
    "***MY ANSWER***\n",
    "\n",
    "||\n",
    "|-|-|\n",
    "| A:|  101  |\n",
    "| B:|  01   |\n",
    "|String:|  10011|\n",
    "\n",
    "|       |   *   | **0** | **1** |\n",
    "|-------|-------|-------|-------|\n",
    "|   *   |   T   |   F   |   F   |\n",
    "| **1** |   ^   |   <   |   F   |\n",
    "| **0** |   ^   |   +   |   <   |\n",
    "| **1** |   F   |   ^   |   +   |\n"
   ]
  },
  {
   "cell_type": "markdown",
   "metadata": {
    "id": "aEcM3xUWSj1N"
   },
   "source": [
    "\n",
    "How does your table compare with the example provided above?  Answer:"
   ]
  },
  {
   "cell_type": "markdown",
   "metadata": {
    "id": "BBXEFeLBSj1N"
   },
   "source": [
    "***MY ANSWER*** \n",
    "\n",
    "My table is very similar to the example provided above. Both tables have the same A(101). The above table has B as 0 and my table has B as 01. Since the only difference between the two tables is B, it is a very similar approach compare to my table and table above. "
   ]
  },
  {
   "cell_type": "markdown",
   "metadata": {
    "id": "mc1s07bQSj1N"
   },
   "source": [
    "### Part 1.b (5 pts)\n",
    "Trace S=10111 using A=101 and B=01. Is S a valid interleaving of A and B? Provide a trace table below, don't just provide an answer:"
   ]
  },
  {
   "cell_type": "markdown",
   "metadata": {
    "id": "QTA0R-XhSj1N"
   },
   "source": [
    "***MY ANSWER***\n",
    "\n",
    "S is not a valid interleaving of A and B. \n",
    "\n",
    "|||\n",
    "|-|-|\n",
    "| A:|  101  |\n",
    "| B:|  01   |\n",
    "|String:|  10111|\n",
    "\n",
    "|       |   *   | **0** | **1** |\n",
    "|-------|-------|-------|-------|\n",
    "|   *   |   T   |   F   |   F   |\n",
    "| **1** |   ^   |   <   |   +   |\n",
    "| **0** |   ^   |   F   |   <   |\n",
    "| **1** |   ^   |   ^   |   +   |"
   ]
  },
  {
   "cell_type": "markdown",
   "metadata": {
    "id": "iKZmIuzJSj1N"
   },
   "source": [
    "## Problem 2 (20 total)\n",
    "The algorithm only handles a single interleaving of strings.  Can you come up with a way to handle _two_ interleavings of A, with a single interleaving of B?"
   ]
  },
  {
   "cell_type": "markdown",
   "metadata": {
    "id": "vg8hSFWLSj1N"
   },
   "source": [
    "### Part 2.a (5 pts)\n",
    "Consider original patterns from problem 1, where A=101 and B=01.  Consider string S=10011011 that has two copies of A instead of one.  Given the algorithm above, what is your strategy for successfully processing this string?  Answer:"
   ]
  },
  {
   "cell_type": "markdown",
   "metadata": {
    "id": "M9wNV5NYSj1N"
   },
   "source": [
    "***MY ANSWER***\n",
    "\n",
    "Since there are two interleavings of A and single interleaving of B, I would repeat the A when I build the trace table. Original A is 101. If we have two copies of A, then the new A is 101101. When we set up the trace table, we can put 101101 for A and 01 for B. If we duplicate columns A when we set up the trace table, then we can successfully process two copies of the A string. \n",
    "\n",
    "My strategy for processing this string is to duplicate the string of A. However, the input A is 101, B is 01 and S is 10011011 based on the algorithm above. Since the input A is 101, I have to find the way to make it to 101101. So, I decided to check how many inputs A and B can fit into S. To figure out this, we have to make sure that the length of S should be equal to the sum of A and B when we set up the trace table. Let's say i is the length  of copies of A and j is the length of copies of B. We know how many input A and B can fit into S by applying this formula: Length of S = length of A $\\times$ i + length of B $\\times$ j. \n",
    "\n",
    "Based on this formula, we know that there are two combinations we can make. The first combination is 0 copies of A and 4 copies of B. Second combination is 2 copies of A and 1 copy of B. If we run the algorithm for the first combination, it would return False. If we run the algorithm for the second combination, we know 2 copies of A and 1 copy of B will work for S = 10011011. \n",
    "\n",
    "\n"
   ]
  },
  {
   "cell_type": "markdown",
   "metadata": {
    "id": "vsFXP4NnSj1N"
   },
   "source": [
    "###  Part 2.b (5 pts)\n",
    "Provide a trace of your solution.  Copy/paste the table format from other cells."
   ]
  },
  {
   "cell_type": "markdown",
   "metadata": {
    "id": "68cno57fSj1N"
   },
   "source": [
    "***MY TRACE***\n",
    "\n",
    "two interleavings of A, with a single interleaving of B\n",
    " \n",
    "|||\n",
    "|-|-|\n",
    "| two A:|  101101  |\n",
    "| single B:|  01   |\n",
    "|String:| 10011011 |\n",
    "\n",
    "|       |   *   | **0** | **1** |\n",
    "|-------|-------|-------|-------|\n",
    "|   *   |   T   |   F   |   F   |\n",
    "| **1** |   ^   |   <   |   F   |\n",
    "| **0** |   ^   |   +   |   <   |\n",
    "| **1** |   F   |   ^   |   +   |\n",
    "| **1** |   ^   |   ^   |   F   |\n",
    "| **0** |   F   |   +   |   <   |\n",
    "| **1** |   F   |   ^   |   +   |"
   ]
  },
  {
   "cell_type": "markdown",
   "metadata": {
    "id": "NzpRq4imSj1N"
   },
   "source": [
    "### Part 2.c (10 pts)\n",
    "Can your solution for handling 2 A's and 1 B also handle the simpler case of a single A and a single B?  Specifically, what part of your trace table for A=101, B=01, that solves S=10011011, might show a match on S=10011 using a single A and a single B?  Explain how.  (HINT: you might need to try 2 A's and 2 B's to see a pattern.)"
   ]
  },
  {
   "cell_type": "markdown",
   "metadata": {
    "id": "53g8uh-ISj1O"
   },
   "source": [
    "***MY ANSWER and explaining how***\n",
    "\n",
    "This algorithm determines whether the string is interleaving by setting up the trace table. My solution for handling 2 A's and 1 B is duplicating the column A and B when we set up the table columns. In the trace table, the string should be equal to the sum of A and B. Based on problem 2.a, I showed the formula that solves this problem of multiple interleaving of strings by knowing how many inputs A and B can fit into S by applying this formula: Length of S = length of A × i + length of B × j. Using this formula, we can create the trace table with A × i rows and B × i columns.\n",
    "\n",
    "Let's show 2 A's and 1B. (Problem 2.a)   \n",
    "Let's say A = 101, B= 01, S = 10011011   \n",
    "Based on this formula, we know that there are two combinations we can make. The first combination is 0 copies of A and 4 copies of B. Second combination is 2 copies of A and 1 copy of B. If we run the algorithm for the first combination, it would return False. If we run the algorithm for the second combination, we know 2 copies of A and 1 copy of B will work for S = 10011011. \n",
    "\n",
    "Let's show single A and single B.  \n",
    "Let's say A = 101, B = 01, S = 10011   \n",
    "Based on this formula, we know there is only one combination we can make. We can make 1 copy of A and 1 copy of B. If we run the algorithm, it would return True. So, we know the single-A and single B will match on S = 10011.\n",
    "\n",
    "\n",
    "Let's show 2 A's and 2 B's   \n",
    "Let's say A = 101, B = 01, S = 1001101101   \n",
    "Based on the formula, we know there is only one combination we can make. We can make 2 copies of A and 2 copies of B. If it returns True when we run the algorithm, then we know 2 A's and 2 B's will match on S = 1001101101. \n",
    "\n",
    "Using the formula of Length of S = length of A × i + length of B × j, I create the trace table that handles not only two copies of string, but also a single string. Since we successfully create the trace table, we know whether the string is interleaving by running the algorithm. \n",
    "\n",
    "*To find the pattern for the trace table, I tried to write the trace table for (1 A's and 1 B's), (2 A's and 1 B's), and (2 A's and 2 B's). By analyzing the (2 A's and 1 B's) table, I realized that the symbol is the same for the (1 A's and 1 B's) part of the table. Also, By analyzing the (2 A's and 2 B's) table, I realized that the symbol is the same for (2 A's and 1 B's). \n"
   ]
  },
  {
   "cell_type": "markdown",
   "metadata": {
    "id": "mSLxP-ItSj1O"
   },
   "source": [
    "Remember your thinking, you'll apply it on [the final problem down below](#Problem-4-(40-total))."
   ]
  },
  {
   "cell_type": "markdown",
   "metadata": {
    "id": "Ef_Mi_6HSj1O"
   },
   "source": [
    "## Problem 3 (30 total)\n",
    "How do you handle initial / leading noise?  \n",
    "\n",
    "The customer tells you that the signal S that they picked up may consist of noise at the beginning and at the end.  This is likely because they are running a capture during a live communications session, and cannot witness either the beginning or the end of the stream.  The noise may consist of parts of A or B, or parts of some other signal.  The point is, you don't want to \"fail\" a signal just because of leading noise.\n",
    "\n",
    "### Part 3.a (10 pts)\n",
    "Provide a strategy for handling leading noise.  Say specifically how to adjust the algorithm above to tolerate symbols and fragments that might come at the beginning of a valid interleaving S.\n",
    "\n",
    "**MY STRATEGY:  Use sufficient detail.  For example: wrap lines xxx to yyy in a while loop that does zzz**\n",
    "\n",
    "In interleaving string, there are first string A, second-string B, and result string C. I think the key component that we have to consider for interleaving string, is the length of string C should be equal to the sum of the length of string A and string B. For this part, we have to remove the leading/initial noise. If there is leading noise in string C, it exceeds the sum of strings A and B. So, I decided to remove the exceed number in the string. \n",
    "\n",
    "For example, A = 101, B= 01, S = 00000010011 with leading noise 0 based on test case in the bottom.\n",
    "The length of A is 3, B is 2, and S is 11. The sum of the length of A and B is 5. If we subtract the length of S and the sum of A and B, then we have 6. So, we know there is 6 leading noise in the result string. So, If we remove the first 6 noises, then we can handle the leading noise. \n"
   ]
  },
  {
   "cell_type": "markdown",
   "metadata": {
    "id": "Ui77gHbHSj1O"
   },
   "source": [
    "### Part 3.b (20 pts)\n",
    "Now, modify the Python code below to implement your algorithm.  Clearly comment where your changes are.  Note that as is, the algorithm returns false. _The instructor will replace your strings and input with their own to test your code._"
   ]
  },
  {
   "cell_type": "code",
   "execution_count": 1,
   "metadata": {
    "id": "sTeVB23USj1O"
   },
   "outputs": [],
   "source": [
    "def isInterleaved(inA, inB, inS):\n",
    "    \"\"\"\n",
    "    Checks if S is an interleaving of strings A and B.  Returns the count\n",
    "    (a, b) of the number of instances of A and B, respectively (at least 1,1).\n",
    "    \n",
    "    Adapted by R. Fink from Geeks for Geeks,\n",
    "    https://www.geeksforgeeks.org/find-if-a-string-is-interleaved-of-two-other-strings-dp-33/\n",
    "\n",
    "    Parameters\n",
    "    ----------\n",
    "    inA : string\n",
    "    inB : string\n",
    "    inS : string to check against\n",
    "\n",
    "    Returns\n",
    "    -------\n",
    "    (int a, int b) count of a patterns and b patterns matched in S\n",
    "\n",
    "    \"\"\"\n",
    "    \n",
    "    \"\"\"\n",
    "    I think the main thing that I need to consider when I am dealing with the leading noise is \n",
    "    the length of S is equal to the sum of the length of A and B.\n",
    "    So, I decided to remove the first element of the S string that exceeds the sum of the length of A and B. \n",
    "    \"\"\"\n",
    "    A = inA\n",
    "    B = inB\n",
    "    S = inS\n",
    "    \n",
    "    m=len(A)            # A is down the rows, indexed by i, starting 1\n",
    "    n=len(B)            # B goes across cols, indexed by j, starting 1\n",
    "\n",
    "    #Handling leading noise \n",
    "    AB = m+n\n",
    "    remove_noise= len(S) - AB\n",
    "    S = S[remove_noise:]\n",
    "\n",
    "    \n",
    "    # Add a dummy character at start, so that indexing starts at 1\n",
    "    A = \"_\" + A         # _ represents the null character\n",
    "    B = \"_\" + B\n",
    "    S = \"_\" + S\n",
    "    \n",
    "    TL=[[False]*(n+1) for _ in range(m+1)] # initialize m x n table to false\n",
    "    TL[0][0] = True             # represents null,null case (always true)\n",
    "    \n",
    "    tabstr=[[\"F\"]*(n+1) for _ in range(m+1)] # for printing\n",
    "    tabstr[0][0] = \"T\"\n",
    "    # For all symbols in A, traveling top to bottom down the rows\n",
    "    for i in range(0,m+1):\n",
    "        # For all symbols in B, traveling left to right across the columns\n",
    "        for j in range (0,n+1):\n",
    "            if i+j==0:\n",
    "                continue            # skip element 0,0 (already true)\n",
    "            Ra = Rb = False\n",
    "            # If the horizontal pattern A matches the next symbol of S,\n",
    "            if A[i] == S[i+j] and i>=1:\n",
    "                Ra = TL[i-1][j]     # then propagate the state across the row\n",
    "            # If the vertical pattern B matches the next symbol of S, \n",
    "            if B[j] == S[i+j] and j>=1:\n",
    "                Rb = TL[i][j-1]     # then propagate the state down the column\n",
    "            # Take the union of the two states\n",
    "            TL[i][j] = Ra or Rb\n",
    "            # Print the \"from\" state  ^ from down column, < from across row\n",
    "\n",
    "    # At the end, we must have completed exactly one run of A and B for\n",
    "    # it to be an interleaving.  \n",
    "    res = TL[m][n] and (1, 1)\n",
    "    return res\n"
   ]
  },
  {
   "cell_type": "code",
   "execution_count": 2,
   "metadata": {
    "colab": {
     "base_uri": "https://localhost:8080/"
    },
    "id": "HQAkSQu_Sj1O",
    "outputId": "a42186fc-384e-4d0c-b670-3f6b586fbe7d"
   },
   "outputs": [
    {
     "name": "stdout",
     "output_type": "stream",
     "text": [
      "(1, 1)\n",
      "(1, 1)\n",
      "(1, 1)\n"
     ]
    }
   ],
   "source": [
    "## Test Block (no leading noise) - should return (1,1) indicating A and B interleave in S\n",
    "A=\"101\"\n",
    "B=\"01\"\n",
    "S=\"10011\"\n",
    "print(isInterleaved(A,B,S))\n",
    "## Test Block - should discard the leading 0 and return (1,1)\n",
    "S=\"010011\" # a \"0\" as leading noise\n",
    "print(isInterleaved(A,B,S)) # note that there is leading noise.\n",
    "S=\"00000010011\" # more leading noise\n",
    "print(isInterleaved(A,B,S))\n"
   ]
  },
  {
   "cell_type": "markdown",
   "metadata": {
    "id": "8oO8cJafSj1P"
   },
   "source": [
    "## Problem 4 (40 total)\n",
    "\n",
    "### Part 4.a (10 pts)\n",
    "Building on your insights from [the problem about matching repetitions](#Problem-2-(20-total)), come up with a strategy for modifying the algorithm at the top to handle matching repetitions, and to count the maximum number of matched repetitions and return it.  Right now, the algorithm emits (1,1); if S is made of 3 instances of A interleaved with 2 instances of B, it should return the tuple (3,2).  \n"
   ]
  },
  {
   "cell_type": "markdown",
   "metadata": {
    "id": "hy2H5FcVSj1P"
   },
   "source": [
    "**MY STRATEGY:  Use sufficient detail.  For example: when lines xxx process a True, add code to lines yyy-zzz that does pppqqq**\n",
    "\n",
    "\n",
    "Based on problem 2, I showed the formula that solves this problem of multiple interleaving of strings by knowing how many inputs A and B can fit into S by applying this formula: Length of S = length of A × i + length of B × j. Using this formula, we can create the trace table with A × i rows and B × i columns. Using this formula, I can create the trace table that handles multiple instances of A and B. \n",
    "\n",
    "Using the algorithm, we know whether the string is interleaving. In the formula, it uses variables \"i\" and \"j.\" \"i\" is the length of copies of A, and \"j\" is the length of copies of B. So, we know i and j is the maximum number of matched repetition. At the end of the algorithm, if we print i and j, we can print the number of instances of A and B. \n",
    "\n",
    "*I know I have to use some kind of strategy that uses a trace table to handle matching repetitions and leading noises. But, I wasn't sure how to use and implement that strategy. Even though I tried to use my strategy that handles matching repetitions, I couldn't figure out how to handle both matching repetitions and leading noises at the same time. "
   ]
  },
  {
   "cell_type": "markdown",
   "metadata": {
    "id": "C1ewtchFSj1P"
   },
   "source": [
    "### Part 4.b (5 pts)\n",
    "Does your algorithm handle trailing noise (symbols that occur after the last valid match)?  If so, how?  Briefly describe:"
   ]
  },
  {
   "cell_type": "markdown",
   "metadata": {
    "id": "XkPNXnNSSj1P"
   },
   "source": [
    "***MY BRIEF DESCRIPTION***\n",
    "\n",
    "In problem 3, I tried to handle the initial noise by removing the first few elements if the sum of the length of A and B exceeds the length of S. Based on the test case that Professor provided at the bottom, the algorithm should handle both leading noise and trailing noise in the string. However, I couldn't figure out how to handle both multiple strings and trailing noise. \n",
    "\n",
    "If I don't have to think about the multiple strings, I would do a similar way to handle trailing noise just like initial noise. I would remove the last few elements if the sum of the length of A and B exceeds the length of S. "
   ]
  },
  {
   "cell_type": "markdown",
   "metadata": {
    "id": "a_HS8ceGSj1P"
   },
   "source": [
    "### Part 4.c (5 pts)\n",
    "Is this an example of bottom-up memoization or top-down memoization?  Why?  Also, briefly describe the repeated subproblems as part of memoization.  (Review the book - good description of this)."
   ]
  },
  {
   "cell_type": "markdown",
   "metadata": {
    "id": "Rql9dTr7Sj1P"
   },
   "source": [
    "***MY ANSWER*** .. this is (bottom-up | top-down) memoization, because ... and the repeated subproblems are ... I don't need to write a lot, just enough.\n",
    "\n",
    "If the algorithm uses loop to get to the answer, we know that this algorithm uses bottom-up meoization. If the algorithm uses recursive method, then we know this algorithm uses top-down memoization. Since this interleaving algorithm uses for-loop to get to the answer,I could think that my algorithm is that example of bottom-up memoization. "
   ]
  },
  {
   "cell_type": "markdown",
   "metadata": {
    "id": "S8VrpjnKSj1P"
   },
   "source": [
    "### Part 4.d (20 pts)\n",
    "Copy your Python code from above that handles leading noise, and modify it to return a count of the maximal matches of A and B per your algorithm.  Clearly comment where your changes are. \n",
    "\n",
    "Note that without your repetition-detecting and noise-eliminating modifications, the algorithm returns (1,1) on the first string S, and False on the other two strings noiseS and badS.  With your modifications to handle both leading noise and repetitions, the output should be (3, 2), (2, 1) and False.  These are test data for you to use; the instructor will replace your strings and input with their own to test your code, so please try other combinations yourself."
   ]
  },
  {
   "cell_type": "code",
   "execution_count": 3,
   "metadata": {
    "id": "vaqVMh77Sj1P"
   },
   "outputs": [],
   "source": [
    "## My Modified Code Goes Here - actual code, not pseudocode.  No pseudocode for this question.\n",
    "\"\"\"\n",
    "I couldn't figure out how to use a trace table to track the repetition of string and handle leading noise. \n",
    "So, I use A*i+B*j =S method.\n",
    "I was able to figure out how to track the repetition of string, but I couldn't figure out how to handle leading noise. \n",
    "\n",
    "find_match\n",
    "-----------\n",
    "In find_match function, it uses A*i+B*j =S method. It finds how many repetitions of A and B is going to be in S. \n",
    "If it finds how many repetitions for A and B, it returns the value of repetition.\n",
    "\n",
    "interleave_trace_table\n",
    "----------------------\n",
    "In interleave_trace_table is from the original code that Professor provided. \n",
    "I separated it into different functions to make this code more readable. \n",
    "So, it constructed the trace table to check whether the string is interleaving or not.\n",
    "\n",
    "\n",
    "isInterleaved\n",
    "----------------\n",
    "In isInterleaved function, it checks whether the string is interleaving or not.\n",
    "If the element of A, B, or S is empty, it returns False.\n",
    "If the length of S is less than the sum of the length of A and B, it returns a False.\n",
    "\n",
    "It proceeds the algorithm if the sum of the length of A and B is greater than or equal to the length of S. \n",
    "If the length of S is equal to the sum of the length of A and B, it uses the original code. \n",
    "If the length of S is greater than the sum of the length of A and B, \n",
    "    it uses find_match function to find how many repetitions of A and B is going to be in S.  \n",
    "\n",
    "\n",
    "\"\"\"\n",
    "import math\n",
    "\n",
    "def find_match(A,B,S):\n",
    "    Sl = len(S)\n",
    "    Al = len(A)\n",
    "    Bl = len(B)\n",
    "    for i in range(0, Sl):\n",
    "        for j in range(0, Sl):\n",
    "            if Al*i + Bl*j == Sl:\n",
    "                match = (i,j)\n",
    "    return match\n",
    "\n",
    "def interleave_trace_table(A, B, S, n, m):\n",
    "    TL=[[False]*(n+1) for _ in range(m+1)]\n",
    "    TL[0][0] = True            \n",
    "    for i in range(0,m+1):\n",
    "        for j in range (0,n+1):\n",
    "            if i+j==0:\n",
    "                continue           \n",
    "            Ra = Rb = False\n",
    "            if A[i] == S[i+j] and TL[0]:\n",
    "                Ra = TL[i-1][j]    \n",
    "            if B[j] == S[i+j] and j>=1:\n",
    "                Rb = TL[i][j-1]  \n",
    "            TL[i][j] = Ra or Rb\n",
    "    if TL[m][n] == True:\n",
    "        return True\n",
    "\n",
    "def isInterleaved(inA, inB, inS):\n",
    "\n",
    "    A = inA\n",
    "    B = inB\n",
    "    S = inS\n",
    "\n",
    "    m = len(A)            # A is down the rows, indexed by i, starting 1\n",
    "    n = len(B)            # B goes across cols, indexed by j, starting 1\n",
    "    k = len(S)\n",
    "    #Handling empty string\n",
    "    if k ==0 or m ==0 or n==0:\n",
    "        return False\n",
    "    #Handling negative string\n",
    "    if k < m+n:\n",
    "        return False\n",
    "    #Handling single string\n",
    "    if k == m +n:\n",
    "        A = \"_\" + A         \n",
    "        B = \"_\" + B\n",
    "        S = \"_\" + S\n",
    "        if (interleave_trace_table(A, B, S, n, m)):\n",
    "            return (1,1)\n",
    "        else:\n",
    "            return False\n",
    "    if k > m+n:\n",
    "        #Handling repetition string\n",
    "        if k%(m+n) == m or k%(m+n)==n: \n",
    "            x, y = find_match(A, B, S)\n",
    "            A = A *x\n",
    "            B = B * y\n",
    "            m_new = len(A) \n",
    "            n_new = len(B)\n",
    "            A = \"_\" + A         \n",
    "            B = \"_\" + B\n",
    "            S = \"_\" + S\n",
    "            if (interleave_trace_table(A, B, S, n_new, m_new)):\n",
    "                return (x,y)\n",
    "            else:\n",
    "                return False\n",
    "        #Handling leading noise (it only hanldes single leading noise)\n",
    "        if k%(m+n) != m or k%(m+n)!=n:\n",
    "            for i in range(0, k+1):\n",
    "                S = S[1:] \n",
    "                k = len(S)\n",
    "                if k%(m+n) == m or k%(m+n)==n or k%(m+n)==0:\n",
    "                    x, y = find_match(A, B, S)\n",
    "                    A = A *x\n",
    "                    B = B * y\n",
    "                    m_new = len(A) \n",
    "                    n_new = len(B)\n",
    "                    A = \"_\" + A         \n",
    "                    B = \"_\" + B\n",
    "                    S = \"_\" + S\n",
    "                    if (interleave_trace_table(A, B, S, n_new, m_new)):\n",
    "                        return (x,y)\n",
    "                    else:\n",
    "                        return False\n",
    "    return False"
   ]
  },
  {
   "cell_type": "code",
   "execution_count": 4,
   "metadata": {
    "colab": {
     "base_uri": "https://localhost:8080/"
    },
    "id": "o5phQXNXSj1P",
    "outputId": "f51bbc12-298c-4640-d857-8d7689f42df6"
   },
   "outputs": [
    {
     "name": "stdout",
     "output_type": "stream",
     "text": [
      "(3, 2)\n",
      "(2, 1)\n",
      "False\n"
     ]
    }
   ],
   "source": [
    "## Test Block\n",
    "A=\"101\"\n",
    "B=\"01\"\n",
    "repS=\"1001110110011\" # (3 A's, 2 B's)\n",
    "print(isInterleaved(A,B,repS)) # WITHOUT mods, will report (1,1), want it to return (3,2)\n",
    "noiseS=\"001101101\" # (2 A's, one B, w/leading noise)\n",
    "print(isInterleaved(A,B,noiseS)) # WITHOUT mods, will report False, with mods will show\n",
    "badS=\"10000111011\" # invalid regardless of checking for noise and/or reps\n",
    "print(isInterleaved(A,B,badS)) # should print False\n"
   ]
  }
 ],
 "metadata": {
  "colab": {
   "name": "Programming_Assignment_4.ipynb",
   "provenance": []
  },
  "kernelspec": {
   "display_name": "Python 3",
   "language": "python",
   "name": "python3"
  },
  "language_info": {
   "codemirror_mode": {
    "name": "ipython",
    "version": 3
   },
   "file_extension": ".py",
   "mimetype": "text/x-python",
   "name": "python",
   "nbconvert_exporter": "python",
   "pygments_lexer": "ipython3",
   "version": "3.6.8"
  }
 },
 "nbformat": 4,
 "nbformat_minor": 1
}
