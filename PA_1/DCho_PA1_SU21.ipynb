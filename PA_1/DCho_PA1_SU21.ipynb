{
 "cells": [
  {
   "cell_type": "markdown",
   "metadata": {
    "id": "baXbq8ixZnpT"
   },
   "source": [
    "Dongjun Cho, Programming Assignment 1, Algorithms 605.621\n",
    "\n",
    "# Statement of Academic Integrity\n",
    "\n",
    "Put a personal statement of academic integrity here.  Failure to do so will result in a deduction of points.\n",
    "\n",
    "I, Dongjun Cho, attempted to answer each question honestly and to the best of my abilities. I cited any and all help that I received in completing this assignment. "
   ]
  },
  {
   "cell_type": "markdown",
   "metadata": {
    "id": "LtQLBRzJZnpU"
   },
   "source": [
    "# Overview\n",
    "\n",
    "Implement an algorithm and an improvement to return the closest pair of points in a Euclidean two-dimensional plane.  The algorithm shall be a simple approach that runs in $\\theta(n^2)$ time, and the improvement shall be some tweak or method for improving the runtime.\n",
    "\n",
    "## Tasks\n",
    "Specifically, you must:\n",
    "\n",
    "1. Write a simple algorithm, in correct pseudocode notation, and suggest some improvements.  The algorithm portion will be submitted as part of a homework assignment.\n",
    "1. Implement both algorithms correctly, in this notebook. \n",
    "1. Compare/contrast algorithm performance via graphs.  In this one case, the performance is related to the number of calls of the distance method.\n",
    "1. Discuss your experiences and opportunities to improve.\n",
    "\n",
    "## Requirements\n",
    "The implementation is not collaborative.  While writing the algorithm may be a collaborative effort as indicated in one of the homework assignments, you must write your own code following the Programming Assignment Guidelines (Blackboard page Syllabus & Course Information ).  Pay careful attention to the academic integrity requirements regarding publicly available code.\n",
    "\n",
    "Regarding the improvement, you *could* use an asymptotically efficient algorithm such as the one sketched in CLRS section 33.4.  We will be very impressed if you push yourself to try this - it isn't hard, but it's probably above most folks who are new to programming.  However, since this is the first assignment, and many may be trying Python for the first time, we will settle for incremental improvement techniques that do not change the fundamental asymptotic behavior.\n",
    "\n",
    "On your implementation, use the function signatures and any data structures as supplied$-$do not change function signatures or introduce strange calling conventions; the instructor's tests are written to the function signatures.  Be sure to \"restart and run all\" prior to submitting your notebook, as the instructor will do the same when testing.  Points will be deducted if the instructor has to make any changes in order to run your code.\n",
    "\n",
    "The analysis and graphs must be driven with programmatically derived data, not \"hard coded\" or pasted in run counts.  An example of what **not** to do: xvals=[3, 4, 12, 15, 36, 47] /* hard coded */  Instead, xvals = [i for i in mycounts] where mycounts is an array you update in your function.\n",
    "\n",
    "As for notebook runtimes, the notebook must never exceed an execution time of FIVE WALL-CLOCK MINUTES.  If your notebook does not execute on a cloud service, such as Google Colaboratory, on the supplied instructor inputs within this time, points will be deducted.  It likely means there's a bug in your implementation.  If you have issues with this, reach out to your instructor."
   ]
  },
  {
   "cell_type": "markdown",
   "metadata": {
    "id": "AWWXlpzDZnpc"
   },
   "source": [
    "# Closest Pairs (100 pts total)\n",
    "The algorithm has separate points assessed within a homework assignment.\n"
   ]
  },
  {
   "cell_type": "markdown",
   "metadata": {
    "id": "H8y5LZ9XZnpf"
   },
   "source": [
    "## Implementation (50 pts)\n",
    "Implement your algorithm in the Student Implementation block(s) and code to print your results. Your code must have a reasonable, consistent, style and commented documentation. It must have appropriate data structures and modularity.  Feel free to use all of the block, and to create additional notebook cells as necessary.  Just put all your code between the instructor data structures and instructor run blocks.  Be sure to preserve the instructor input block, and do not change names of any of the variables - they will be inputted fresh by the instructor when testing your code.  Output must be clear and nicely formatted.  \n",
    "\n",
    "Your code should have be robust and have some error checking - we won't deliberately test for unusual/nonsense conditions, but our tests will include different data than supplied here so you want to be prepared for a variety of (well-formed) input conditions.\n",
    "\n",
    "**Note - you must implement your algorithm** that you submitted earlier, allowing for minor corrections.\n",
    "\n",
    "Print the closest pair of points, and their distance."
   ]
  },
  {
   "cell_type": "markdown",
   "metadata": {
    "id": "xBhwSTUr5zyq"
   },
   "source": [
    "### Instructor Data Structures"
   ]
  },
  {
   "cell_type": "code",
   "execution_count": 1,
   "metadata": {
    "id": "1y8pHzTrZnpf"
   },
   "outputs": [],
   "source": [
    "############################################################################\n",
    "# INSTRUCTOR DATA STRUCTURES AND INITIAL TEST DATA\n",
    "# DO NOT CHANGE THE NAMES OR SIGNATURES OF THESE STRUCTURES OR FUNCTIONS.\n",
    "############################################################################\n",
    "class Point(object):\n",
    "    \"\"\"Data structure for points, methods include P.x, P.y and other Pythonisms\n",
    "  necessary to use with sets, tuples, etc.\"\"\"\n",
    "    def __init__(self, x, y): \n",
    "        self.x = x \n",
    "        self.y = y\n",
    "    def __repr__(self):\n",
    "        return f\"({self.x},{self.y})\" \n",
    "    def __eq__(self, other): # need both eq and hash if you want to use sets\n",
    "        return self.x == other.x and self.y == other.y\n",
    "    def __hash__(self):\n",
    "        return hash((self.x, self.y))\n",
    "    def __iter__(self): # required to convert to tuple\n",
    "        for i in [self.x, self.y]:\n",
    "          yield i\n",
    "\n",
    "# Initial set of test points (w/answers)\n",
    "POINTS = [Point(7, 16), Point(13, 5), Point(4, 2), Point(20, 8), Point(5, 16), \n",
    "          Point(2, 4), Point(6, 6), Point(20, 15), Point(17, 8), Point(11, 16)]\n",
    "# Expected output:\n",
    "# Closest pair of points are (7,16) and (5,16), distance = 2.0"
   ]
  },
  {
   "cell_type": "markdown",
   "metadata": {
    "id": "c1sLDEaJoZCc"
   },
   "source": [
    "### Call Counter"
   ]
  },
  {
   "cell_type": "code",
   "execution_count": 2,
   "metadata": {
    "id": "TwEjc95woZCd"
   },
   "outputs": [],
   "source": [
    "def call_counter(f):\n",
    "    def wrapped(*args, **kwargs): # deal with any/all arguments\n",
    "        wrapped.calls += 1\n",
    "        return f(*args, **kwargs)\n",
    "    wrapped.calls = 0\n",
    "    return wrapped"
   ]
  },
  {
   "cell_type": "markdown",
   "metadata": {
    "id": "Cl-NJW99542N"
   },
   "source": [
    "### Student Implementation"
   ]
  },
  {
   "cell_type": "code",
   "execution_count": 3,
   "metadata": {
    "id": "xYEZEBwOZnpg"
   },
   "outputs": [],
   "source": [
    "############################################################################\n",
    "# STUDENT IMPLEMENTATION BLOCK - Simple\n",
    "############################################################################\n",
    "# Student Euclidean Distance Function\n",
    "from math import * #For square function\n",
    "\n",
    "@call_counter\n",
    "def dist(p1, p2):\n",
    "    # stub implementation - you have to change - just here to demo return vals\n",
    "    #d = p1.x - p2.y # clearly incorrect - you fix it\n",
    "    \n",
    "    #Euclidean distance formula = square root((xi - xj)^2 + (yi - yj)^2)\n",
    "    return sqrt((p1.x - p2.x)**2 + (p1.y-p2.y)**2)\n",
    "\n",
    "# Definition of Student Closest Points function\n",
    "def closestPairSimple(points):  # Preserve the function name and arguments\n",
    "    \"\"\"This is the simple n^2 implementation.\"\"\"\n",
    "    # I WILL WRITE MY CODE HERE\n",
    "    # I MAY USE OTHER CELLS, functions, but beware that they must be in order - \n",
    "    # \"Restart and Run All\" before submission to make sure you didn't put \n",
    "    # some function you need down below this block.\n",
    "#     mypoint1, mypoint2 = POINTS[0], POINTS[1]\n",
    "#     mydist = dist(mypoint1, mypoint2)\n",
    "    # Remember to track the calls to dist\n",
    "    distance_list = []\n",
    "    mydist = -1 # set to -1\n",
    "    for i in range(0, len(points)-1): #first item\n",
    "        for j in range(i+1, len(points)): #second item\n",
    "            p1, p2 = points[i], points[j]\n",
    "            current_distance = dist(p1, p2) # Compute the distance\n",
    "            if mydist == -1 or mydist > current_distance: #Find minimum distance\n",
    "                mydist = current_distance\n",
    "                mypoint1, mypoint2 = points[i], points[j]\n",
    "    # Return the closest 2 points, and the Euclidean distance between them.\n",
    "    return mypoint1, mypoint2, round(mydist,2)\n",
    "\n",
    "############################################################################\n",
    "# STUDENT IMPLEMENTATION BLOCK - Improved\n",
    "###########################################################################\n",
    "#Find minimum distance\n",
    "def min_dist(a, b) :\n",
    "    if a < b :     # a < b\n",
    "        return a  # a\n",
    "    else :        # b < a \n",
    "        return b  # b \n",
    "\n",
    "def d_min(points) :\n",
    "    n = len(points)\n",
    "    \n",
    "    # If n is less than equal to 3, I manually calculate the distance instead of returning brute force,\n",
    "    # By comparing execution steps, manual check is faster than returning brute force.\n",
    "    \n",
    "    if n<=3: #If n is less than equal to 3\n",
    "        if n==3: # If n is equal to 3\n",
    "            a = dist(points[0], points[1]) #calculate the distance of point0, point1\n",
    "            b = dist(points[0], points[2]) #calculate the distance of point0, point2\n",
    "            c = dist(points[1], points[2]) #calculate the distance of point1, point2\n",
    "            minDist = min_dist(a, b) #check the minimum distance between a, b\n",
    "            minDist =min_dist(minDist, c) #check the minimum distance between minDist, c\n",
    "            if minDist == a: #if the minimum distance is a\n",
    "                return points[0], points[1], a\n",
    "            if minDist == b:#if the minimum distance is b\n",
    "                return points[0], points[2], b\n",
    "            if minDist == c: #if the minimum distance is c\n",
    "                return points[1], points[2] , c\n",
    "        if n==2: # If n is equal to 2\n",
    "            return points[0], points[1], dist(points[0], points[1])\n",
    "    else: #If n is greater than 3\n",
    "        mid = n//2\n",
    "        # Divide the points array by center x-coordinate\n",
    "        left_p1, left_p2=d_min(points[:mid])[0], d_min(points[:mid])[1] # Left side of the pair points\n",
    "        Left_point_distance = dist(left_p1, left_p2) # Left side of distance of pair points\n",
    "        right_p1, right_p2 = d_min(points[mid:])[0],d_min(points[mid:])[1] #Right side of pair points\n",
    "        Right_point_distance = dist(right_p1, right_p2) #Right side of distance of pair points\n",
    "        #Compare left side and right side\n",
    "        if Left_point_distance < Right_point_distance: #if left side distance is less than right side distance\n",
    "            d = Left_point_distance\n",
    "            pair_point = (left_p1, left_p2)\n",
    "        else:#if right side distance is less than left side distance\n",
    "            d = Right_point_distance\n",
    "            pair_point = (right_p1, right_p2)\n",
    "        candidate = [points[mid]] # Candidate points that could be the minimum distance.\n",
    "        i = 1\n",
    "        #Candidates include only points whose x-coordinates are less than the minimum distance relative to the boundary line.\n",
    "        while(mid+i<n):# Check the right side of the points\n",
    "            dist_gap_1 = points[mid+i].x - points[mid].x\n",
    "            if (abs(dist_gap_1)) <= d: #Only points that are shorter than the minimum distance d are candidates.\n",
    "                candidate.append(points[mid+i])\n",
    "                i += 1#Increment i to check all the right side of the points\n",
    "            else:\n",
    "                break\n",
    "        i = 1\n",
    "        while(mid-i>=0):# Check the left side of the points\n",
    "            dist_gap_2=points[mid].x - points[mid-i].x\n",
    "            if (abs(dist_gap_2)) <= d:#Only points that are shorter than the minimum distance d are candidates.\n",
    "                candidate.append(points[mid-i])\n",
    "                i += 1#Increment i to check all the left side of the points\n",
    "            else:   \n",
    "                break\n",
    "        candidate = sorted(candidate, key = lambda x : x.y) # Sort by y-coordinate\n",
    "        closest_distance = d #set closest_distance as d\n",
    "        for i in range(0, len(candidate)-1) : \n",
    "            for j in range(i+1,len(candidate)) : \n",
    "                y_distance = candidate[i].y - candidate[j].y # Calculate the distance between points by y_coordinates\n",
    "                candidate_distanced = dist(candidate[i],candidate[j]) #Calculate the candidate distance\n",
    "                if (abs(y_distance)) < closest_distance :  # # Only points that is less than closest_distance by y-coordinate\n",
    "                    if(candidate_distanced < closest_distance): #If the candidate distance is less than closest distance\n",
    "                        closest_distance = candidate_distanced # candidate distance becomes minimum distance\n",
    "                        point1, point2 = candidate[i], candidate[j] #Take the closest point pair\n",
    "                    else:\n",
    "                        break\n",
    "        if closest_distance < d: #If the closest distance is less than d\n",
    "            return point1, point2, closest_distance # then print the results\n",
    "        else:#If the closest distance is bigger than d\n",
    "            return pair_point[0], pair_point[1], d #print the results.\n",
    "\n",
    "def closestPairImproved(points):\n",
    "    \"\"\"This is the improved implementation.\"\"\"\n",
    "    points =sorted(points , key = lambda x : x.x) #Sort array by x-coordinate before we calcualte the closest pair of point distance\n",
    "    mypoint1 = d_min(points)[0] #First points of pair points\n",
    "    mypoint2 = d_min(points)[1] #Second points of pair poitns\n",
    "    mydist = d_min(points)[2]   #Shortest distance of points\n",
    "    return mypoint1, mypoint2, round(mydist,2)"
   ]
  },
  {
   "cell_type": "markdown",
   "metadata": {
    "id": "2GsdcuYdZnpg"
   },
   "source": [
    "### Student Output\n"
   ]
  },
  {
   "cell_type": "code",
   "execution_count": 4,
   "metadata": {
    "colab": {
     "base_uri": "https://localhost:8080/"
    },
    "id": "pYZXp1qVZnpg",
    "outputId": "16a46990-ba79-47dc-ace8-b7b5fe06cbd2"
   },
   "outputs": [
    {
     "name": "stdout",
     "output_type": "stream",
     "text": [
      "Simple: Closest pair of points are (7,16) and (5,16), distance = 2.0\n",
      "Improved: Closest pair of points are (5,16) and (7,16), distance = 2.0\n"
     ]
    }
   ],
   "source": [
    "############################################################################\n",
    "# STUDENT OUTPUT BLOCK\n",
    "############################################################################\n",
    "# This block should run your function and produce output that matches the input \n",
    "# and output.\n",
    "\n",
    "# Print results here - for both simple and improved versions\n",
    "# Example of the first:\n",
    "p1, p2, d = closestPairSimple(POINTS)\n",
    "print(f\"Simple: Closest pair of points are {p1} and {p2}, distance = {d}\")\n",
    "# closestPairSimple output\n",
    "# Closest pair of points are (7,16) and (5,16), distance = 2.0\n",
    "\n",
    "p1, p2, d  = closestPairImproved(POINTS)\n",
    "print(f\"Improved: Closest pair of points are {p1} and {p2}, distance = {d}\")"
   ]
  },
  {
   "cell_type": "markdown",
   "metadata": {
    "id": "QHl7XoYVZnph"
   },
   "source": [
    "## Analysis (40 pts)\n",
    " Perform tests to measure the asymptotic behavior of your program \n",
    "(call this the code's worst-case running time).  As with every programming assignment this semester, *running time* implies execution steps, not clock time, versus size of the input data.  Modify your code (either here or above) to count the steps, run trials of different lengths, and plot using the graph below.  (You may use this graph code for future assignments, or you can put in your own, as long as it is reasonable.)\n",
    "\n",
    "Think: what goes on the x axis?  What goes on the y axis?  How do you modify your code above to exercise the different inputs?  Label the axes, use the right data, make this look *professional.*  Also, pay attention to the asymptotic bounds.  Compare simple to improved on the same graph.\n",
    "\n",
    "***Then, write a description below the figure of what is happening.***\n",
    "\n",
    "Please note, graphs must tell a story.  The better your graph is, the more descriptive, (appropriate scale to \"zoom in\" on the required features), the better the story it tells.  Use colors, points, symbols, a good key, good labels, make this look professional.  If you are comparing two alternatives, find a way to overlay their runs on a single graph.  Really, really try to sell me graphically on your improvements.\n",
    "\n",
    "Things to consider:\n",
    "* How many points do you plot?  Notice there are too many red x's.\n",
    "* Which bounding functions do you include?  Not all of them.  Can you \"bring them in a little\" to make them tighter to your function?\n",
    "\n",
    "You may reuse this plot style on future assignments, or augment it as you wish.  Tell us a good story!  **Don't forget the writeup.**\n",
    "\n"
   ]
  },
  {
   "cell_type": "markdown",
   "metadata": {
    "id": "kdpHJd9YN8L5"
   },
   "source": [
    "### Plot"
   ]
  },
  {
   "cell_type": "code",
   "execution_count": 5,
   "metadata": {
    "colab": {
     "base_uri": "https://localhost:8080/",
     "height": 374
    },
    "id": "DXyYN7SsD0-e",
    "outputId": "c24c5686-59d5-4bb1-b933-025c3ca8cc23",
    "scrolled": false
   },
   "outputs": [
    {
     "name": "stderr",
     "output_type": "stream",
     "text": [
      "In /home/dongjun819/.local/lib/python3.6/site-packages/matplotlib/mpl-data/stylelib/_classic_test.mplstyle: \n",
      "The text.latex.preview rcparam was deprecated in Matplotlib 3.3 and will be removed two minor releases later.\n",
      "In /home/dongjun819/.local/lib/python3.6/site-packages/matplotlib/mpl-data/stylelib/_classic_test.mplstyle: \n",
      "The mathtext.fallback_to_cm rcparam was deprecated in Matplotlib 3.3 and will be removed two minor releases later.\n",
      "In /home/dongjun819/.local/lib/python3.6/site-packages/matplotlib/mpl-data/stylelib/_classic_test.mplstyle: Support for setting the 'mathtext.fallback_to_cm' rcParam is deprecated since 3.3 and will be removed two minor releases later; use 'mathtext.fallback : 'cm' instead.\n",
      "In /home/dongjun819/.local/lib/python3.6/site-packages/matplotlib/mpl-data/stylelib/_classic_test.mplstyle: \n",
      "The validate_bool_maybe_none function was deprecated in Matplotlib 3.3 and will be removed two minor releases later.\n",
      "In /home/dongjun819/.local/lib/python3.6/site-packages/matplotlib/mpl-data/stylelib/_classic_test.mplstyle: \n",
      "The savefig.jpeg_quality rcparam was deprecated in Matplotlib 3.3 and will be removed two minor releases later.\n",
      "In /home/dongjun819/.local/lib/python3.6/site-packages/matplotlib/mpl-data/stylelib/_classic_test.mplstyle: \n",
      "The keymap.all_axes rcparam was deprecated in Matplotlib 3.3 and will be removed two minor releases later.\n",
      "In /home/dongjun819/.local/lib/python3.6/site-packages/matplotlib/mpl-data/stylelib/_classic_test.mplstyle: \n",
      "The animation.avconv_path rcparam was deprecated in Matplotlib 3.3 and will be removed two minor releases later.\n",
      "In /home/dongjun819/.local/lib/python3.6/site-packages/matplotlib/mpl-data/stylelib/_classic_test.mplstyle: \n",
      "The animation.avconv_args rcparam was deprecated in Matplotlib 3.3 and will be removed two minor releases later.\n"
     ]
    },
    {
     "data": {
      "image/png": "[encoded data removed]",
      "text/plain": [
       "<Figure size 720x360 with 1 Axes>"
      ]
     },
     "metadata": {
      "needs_background": "light"
     },
     "output_type": "display_data"
    }
   ],
   "source": [
    "# Code adapted from Sahil Sharma, used with permission, from Spring, 2021\n",
    "\n",
    "from math import pow\n",
    "from math import log2\n",
    "from math import factorial\n",
    "\n",
    "# Let myruncounts[i] be count of calls for POINT array of size i\n",
    "myruncounts = [0.8*x**1.9 for x in range(100)] # your data here\n",
    "\n",
    "# benchmark data set generation\n",
    "yTestVals1 = [0,] # linear for O(n)\n",
    "yTestVals2 = [0,] # quadratic for O(n^2)\n",
    "yTestVals3 = [0,] # n*log(n) for O(nlog(n))\n",
    "yTestVals4 = [0,] # 5*n*log(n) for O(nlog(n))\n",
    "\n",
    "# generate bench mark data for O(n), O(n^2), O(nlog(n)), O(10*nlog(n)), and O(n!)\n",
    "for i in range(1, len(myruncounts)):\n",
    "    yTestVals1.append(i)\n",
    "    yTestVals2.append(pow(i, 2))\n",
    "    yTestVals3.append(i*log2(i))\n",
    "    yTestVals4.append(5*i*log2(i))\n",
    "\n",
    "# %matplotlib inline\n",
    "import matplotlib.pyplot as plt\n",
    "\n",
    "# Simple vs. Improved execution steps\n",
    "plt.rcParams['figure.figsize'] = [10,5]\n",
    "fig, (ax1) = plt.subplots(1, 1)\n",
    "fig.suptitle('Runtime Analysis', size=\"xx-large\")\n",
    "\n",
    "# plotting nearest neighbor execution steps\n",
    "ax1.set_title('Simple vs. Improved', size=\"x-large\")\n",
    "ax1.plot(range(len(myruncounts)), myruncounts, \"rx-\", markersize=10, linewidth=4, label=\"Calls to Dist\")\n",
    "ax1.plot(range(len(myruncounts)), yTestVals1, \"m^-\", markersize=0, linewidth=1, label=\"benchmark O(n)\")\n",
    "ax1.plot(range(len(myruncounts)), yTestVals3, \"g^-\", markersize=0, linewidth=1, label=\"benchmark O(nlog(n))\")\n",
    "ax1.plot(range(len(myruncounts)), yTestVals4, \"y^-\", markersize=0, linewidth=1, label=\"benchmark O(5*nlog(n))\")\n",
    "ax1.plot(range(len(myruncounts)), yTestVals2, \"b^-\", markersize=0, linewidth=1, label=\"benchmark O(n^2)\")\n",
    "ax1.grid(b=True, which='major', axis='both')\n",
    "## X label for this graph is Complexity respect to input size in other words, Runtime. \n",
    "## Y label for this graph is input size. \n",
    "ax1.set(xlabel = 'Size of the input', ylabel = 'Complexity (Execution Time/Steps)')\n",
    "ax1.legend(loc=(0.05,0.65), scatterpoints=1)\n",
    "ax1.tick_params(axis=\"both\", which=\"major\", labelsize=14)"
   ]
  },
  {
   "cell_type": "markdown",
   "metadata": {
    "id": "c1XKuLcZoZCp"
   },
   "source": [
    "### Plot: Execution Steps\n",
    "I generated random points that have range from 0 to 100 for both x and y coordinates. I was able to track the execution steps by counting distance function calls."
   ]
  },
  {
   "cell_type": "code",
   "execution_count": 6,
   "metadata": {
    "id": "VH6A7J1poZCp"
   },
   "outputs": [],
   "source": [
    "import random \n",
    "\n",
    "def simple_counter_calls(n):\n",
    "    simple_random_point_gen =[]\n",
    "    #Generate random points\n",
    "    simple_random_point_gen.append([Point(random.randrange(100),random.randrange(100)) for x in range(n)]) \n",
    "    closestPairSimple(simple_random_point_gen[0])\n",
    "    #Count the simple algorithm\n",
    "    simple_calls = dist.calls\n",
    "    closestPairImproved(simple_random_point_gen[0])\n",
    "    #Count the improved algorithm\n",
    "    improved_calls = dist.calls- simple_calls\n",
    "    return simple_calls, improved_calls"
   ]
  },
  {
   "cell_type": "code",
   "execution_count": 7,
   "metadata": {
    "id": "L_2M44aYoZCq"
   },
   "outputs": [],
   "source": [
    "simple_count =[]\n",
    "# Append 100 element of points for simple and improved\n",
    "input_size = 100\n",
    "for i in range(2, input_size):\n",
    "    simple_count.append(simple_counter_calls(i))\n",
    "closest_simple =[]\n",
    "closest_improved =[]\n",
    "# In order to measure individual counter calls, it has to subtract element to previous element\n",
    "for j in range(1, len(simple_count)):\n",
    "    count_size = simple_count[j][0] - simple_count[j-1][0]\n",
    "    closest_improved.append(simple_count[j][1])\n",
    "    closest_simple.append(count_size)"
   ]
  },
  {
   "cell_type": "code",
   "execution_count": 8,
   "metadata": {
    "colab": {
     "base_uri": "https://localhost:8080/",
     "height": 389
    },
    "id": "PMz4-2tBoZCq",
    "outputId": "ac20368e-54aa-4dbe-e832-dcc0faa25f8a",
    "scrolled": false
   },
   "outputs": [
    {
     "data": {
      "text/plain": [
       "[Text(0.5, 0, 'Input Size'), Text(0, 0.5, 'Execution Steps')]"
      ]
     },
     "execution_count": 8,
     "metadata": {},
     "output_type": "execute_result"
    },
    {
     "data": {
      "image/png": "[encoded data removed]",
      "text/plain": [
       "<Figure size 720x360 with 1 Axes>"
      ]
     },
     "metadata": {
      "needs_background": "light"
     },
     "output_type": "display_data"
    }
   ],
   "source": [
    "plt.rcParams['figure.figsize'] = [10,5]\n",
    "fig, (ax1) = plt.subplots(1, 1)\n",
    "fig.suptitle('Execution Steps Analysis', size=\"xx-large\")\n",
    "ax1.set_title('Simple vs. Improved', size=\"x-large\")\n",
    "\n",
    "ax1.plot(range(len(closest_simple)), closest_simple, \"b^-\", markersize=0, linewidth=2, label=\"Simple\")\n",
    "ax1.plot(range(len(closest_improved)), closest_improved, \"g^-\", markersize=0, linewidth=2, label=\"Improved\")\n",
    "ax1.grid(b=True, which='major', axis='both')\n",
    "ax1.legend(loc=(0.05,0.85), scatterpoints=1)\n",
    "ax1.set(xlabel = 'Input Size', ylabel = 'Execution Steps')"
   ]
  },
  {
   "cell_type": "markdown",
   "metadata": {
    "id": "LIN80b3FoZCr"
   },
   "source": [
    "### Analysis Writeup"
   ]
  },
  {
   "cell_type": "markdown",
   "metadata": {
    "id": "6ylyeycmoZCr"
   },
   "source": [
    "***I WILL WRITE MY DESCRIPTION HERE OF WHAT IS HAPPENING REGARDING THE FIGURE ABOVE.  I WILL COMPARE IT TO MY ASYMPTOTIC NOTATION THAT I STATED EARLIER.***"
   ]
  },
  {
   "cell_type": "markdown",
   "metadata": {
    "id": "rtDy2-AvoZCr"
   },
   "source": [
    "In Runtime Analysis graph figure, the x-axis represents the size of the inputs. Currently, it has 100 size of the inputs. The y-axis represents the complexity or execution steps. Based on this figure, we can say O(n^2) > Dist > O(5*nlog(n)) > O (nlog(n)) > O(n). O(n) takes shortest steps and O(n^2) takes longest steps. \n",
    "\n",
    "To generate this Execution Steps Analysis graph, I generated random points that have a range from 0 to 100 for both x and y coordinates. To count the execution steps, I count the number of calls of the distance methods. By counting the number of calls of the distance methods, I was able to analyze the performance of both simple algorithm and the improved algorithm. \n",
    "\n",
    "Simple Algorithm is using a brute-force algorithm that checks all the possible cases to generate the closest points. Since it checks all the possible cases, it should theoretically have $\\theta(n^2)$ complexity time. When I analyze the Execution Step analysis graph, the simple algorithm gives $\\theta(n^2)$ complexity time.\n",
    "\n",
    "For the improved algorithm, I tried to use the divide-and-conquer algorithm. In an improved algorithm, it first divides the points from the left side to the right side. Secondly, it finds the minimum distance for each side. Last, it conquers by comparing the minimum distance of each side. Since the improved algorithm tried to use the divide-and-conquer algorithm, it should theoretically have $\\theta(nlog(n))$ complexity time.  However, when I analyze the Execution Step analysis graph, the improved algorithm gives the time complexity little of $\\theta(n^2)$. \n",
    "\n",
    "Even though the improved algorithm doesn't give $\\theta(nlog(n))$ time complexity by analyzing the execution steps graph, the improved algorithm takes shorter execution steps than the simple algorithm."
   ]
  },
  {
   "cell_type": "markdown",
   "metadata": {
    "id": "UkF465owZnpj"
   },
   "source": [
    "## Retrospection (10 total)\n",
    "Talk about how you did on this assignment.  This is just feedback to the instructor.  You can edit this cell and answer inline in non-bold.\n",
    "* **What was the last bug you found and fixed?**\\\n",
    "The first bug that I spent most time fixing is a logic error. I was able to calculate the minimum distance, but I couldn't figure out how to print the closest pair of points and distance. I fixed this error by changing the way to find the minimum distance. For minimum distance, I used to use the python built-in min function. But, I fixed this error by using if-statement to extract the closest pair of points. The second bug that I found is Object error. When I tried to check single x_coordinate points, I kept getting a\"'Point' object is not subscriptable\" error. I fixed this error by changing the list to object. The last bug that I found is a logic error. If I use the default Points that Professor provided, it works fine. However, If I tried different points, it gets a logic error. I fixed this logic error by checking the left side of the point and the right side of the points. \n",
    "* **What are some late-breaking ideas you had for improving your implementation, that maybe you didn't have time to implement?**\\\n",
    "It would be much better if I can construct the faster algorithm with the $\\theta(nlog(n))$ time complexity. Also, It would be much better to check every possible edge case. For example, If a bunch of points on the dividing line, I think it would be better to check middle points. \n",
    "* **What did you feel you learned from this assignment?** \\\n",
    "From this assignment, I learned how to count the execution steps. Also, I understand the difference between execution steps and clock time. By debugging this algorithm, I learned how to improve the performance of the algorithm. I understand that improving the algorithm would help my future coding. \n",
    "* **How would you improve this assignment for future semesters?**\\\n",
    "I would improve this assignment for the future semester by fully plan how to structure the algorithm before coding. \n",
    "\n",
    "If there's anything else you'd like to say, feel free to write it.\n"
   ]
  },
  {
   "cell_type": "markdown",
   "metadata": {
    "id": "b1W-71sMZnpj"
   },
   "source": [
    "# Citations\n",
    "Include citations for any and all help you received.\n",
    "\n",
    "To structure the improved algorithm (divide-and-conquer), I used this <a href=\"https://www.cs.cmu.edu/~ckingsf/bioinfo-lectures/closepoints.pdf\">reference</a>. \\\n",
    "To understand the complexity and understand how to plot, I used this <a href=\"https://blog.finxter.com/complexity-of-python-operations/\">reference</a>. "
   ]
  },
  {
   "cell_type": "markdown",
   "metadata": {
    "id": "vQFLETrHZnpj"
   },
   "source": [
    "# Instructor Test Data\n",
    "This is where the instructor will paste the test code and possibly additional data.  Some data with results are provided to help you debug, but we may test with different data.  Ensure your function works in this block."
   ]
  },
  {
   "cell_type": "code",
   "execution_count": 9,
   "metadata": {
    "id": "bizhW4LTZnpj"
   },
   "outputs": [],
   "source": [
    "# INSTRUCTOR-PROVIDED TEST DATA\n",
    "# Ensure that your code matches both the input signature and the expected output\n",
    "# For grading, different test data will be pasted into the input cell and your code cells will be executed\n",
    "# Be sure that your input and output signatures match the provided sample data\n",
    "# You should also generate your own test data to fully explore the behavior of your code\n",
    "\n",
    "# Test #1\n",
    "POINTS = [(7, 16), (13, 5), (4, 2), (20, 8), (5, 16), (2, 4), (6, 6), (20, 15), (17, 8), (11, 16)]\n",
    "M = 1  # Number of closest points to return\n",
    "# Expected output:\n",
    "# Points (7, 16) and (5, 16), distance = 2.0\n",
    "\n",
    "#Test #2\n",
    "POINTS = [(7, 16), (13, 5), (4, 2), (20, 8), (5, 16), (2, 4), (6, 6), (20, 15), (17, 8), (11, 16)]\n",
    "M = 10  \n",
    "# Expected output:\n",
    "# The closest points are: \n",
    "# Points (7, 16) and (5, 16), distance = 2.0\n",
    "\n",
    "# Test #3\n",
    "POINTS = [(6, 6), (4, 7), (17, 3), (6, 18), (2, 13), (12, 5), (5, 10), (18, 16), (2, 20), (13, 1)]\n",
    "M = 5\n",
    "# Expected output:\n",
    "# The closest points are: \n",
    "# Points (6, 6) and (4, 7), distance = 2.24 # Note the rounding / formatting - make it pretty\n"
   ]
  },
  {
   "cell_type": "code",
   "execution_count": 10,
   "metadata": {
    "colab": {
     "base_uri": "https://localhost:8080/"
    },
    "id": "B7s3PibloZCt",
    "outputId": "e39f58e1-c3b5-4aa9-cbe7-30a92a73dc3e"
   },
   "outputs": [
    {
     "name": "stdout",
     "output_type": "stream",
     "text": [
      "closestPairSimple ((6,6), (4,7), 2.24)\n",
      "closestPairImproved ((4,7), (6,6), 2.24)\n"
     ]
    }
   ],
   "source": [
    "#Test #3\n",
    "POINTS_test_3 = [Point(6, 6),Point(4, 7), Point(17, 3), Point(6, 18), Point(2, 13), Point(12, 5), Point(5, 10), Point(18, 16), Point(2, 20), Point(13, 1)]\n",
    "\n",
    "print(\"closestPairSimple \" + str(closestPairSimple(POINTS_test_3)))\n",
    "print(\"closestPairImproved \" + str(closestPairImproved(POINTS_test_3)))"
   ]
  },
  {
   "cell_type": "markdown",
   "metadata": {
    "id": "w5ONv8fLoZCu"
   },
   "source": [
    "### Trace Runs/ Test Runs\n",
    "\n",
    "To test this algorithm, I made the function that generates random point and prints the result of the simple and improved algorithm."
   ]
  },
  {
   "cell_type": "code",
   "execution_count": 11,
   "metadata": {
    "id": "YdBIlKOLoZCu"
   },
   "outputs": [],
   "source": [
    "def trace_runs(n):\n",
    "    simple_random_point_gen =[]\n",
    "    simple_random_point_gen.append([Point(random.randrange(n),random.randrange(n)) for x in range(n)]) \n",
    "    print(\"Simple algorithm\" + str(closestPairSimple(simple_random_point_gen[0])))\n",
    "    print(\"Improved algorithm\" + str(closestPairImproved(simple_random_point_gen[0])))"
   ]
  },
  {
   "cell_type": "code",
   "execution_count": 12,
   "metadata": {
    "colab": {
     "base_uri": "https://localhost:8080/"
    },
    "id": "WX2WJRVDoZCv",
    "outputId": "0b0590ae-af1a-4543-f033-cf8c39c626d2"
   },
   "outputs": [
    {
     "name": "stdout",
     "output_type": "stream",
     "text": [
      "When n is equal to 100\n",
      "Simple algorithm((83,71), (83,71), 0.0)\n",
      "Improved algorithm((83,71), (83,71), 0.0)\n",
      "When n is equal to 500\n",
      "Simple algorithm((364,59), (364,58), 1.0)\n",
      "Improved algorithm((460,405), (459,405), 1.0)\n",
      "When n is equal to 1000\n",
      "Simple algorithm((598,214), (598,214), 0.0)\n",
      "Improved algorithm((654,670), (654,670), 0.0)\n"
     ]
    }
   ],
   "source": [
    "n = [100, 500, 1000] #number of points\n",
    "for i in range(0, len(n)):\n",
    "    print(\"When n is equal to \" + str(n[i]))\n",
    "    trace_runs(n[i])"
   ]
  }
 ],
 "metadata": {
  "colab": {
   "collapsed_sections": [],
   "name": "DCho_PA1_SU21_draft.ipynb",
   "provenance": [],
   "toc_visible": true
  },
  "kernelspec": {
   "display_name": "Python 3",
   "language": "python",
   "name": "python3"
  },
  "language_info": {
   "codemirror_mode": {
    "name": "ipython",
    "version": 3
   },
   "file_extension": ".py",
   "mimetype": "text/x-python",
   "name": "python",
   "nbconvert_exporter": "python",
   "pygments_lexer": "ipython3",
   "version": "3.6.8"
  }
 },
 "nbformat": 4,
 "nbformat_minor": 1
}
